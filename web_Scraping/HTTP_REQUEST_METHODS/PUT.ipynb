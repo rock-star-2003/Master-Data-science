{
 "cells": [
  {
   "cell_type": "markdown",
   "id": "c9b568ce",
   "metadata": {},
   "source": [
    "# PUT method - Python requests"
   ]
  },
  {
   "cell_type": "markdown",
   "id": "25d440af",
   "metadata": {},
   "source": [
    "The requests library is a powerful and user-friendly tool in Python for making HTTP requests. The PUT method is one of the key HTTP request methods used to update or create a resource at a specific URI."
   ]
  },
  {
   "cell_type": "markdown",
   "id": "fe8a15a4",
   "metadata": {},
   "source": [
    "# Working of HTTP PUT Method\n",
    "- If the resource exists at the given URI, it is updated with the new data.\n",
    "- If the resource does not exist, the server can create it at that URI.\n",
    "- The request includes the data to be stored in the request body.\n",
    "- It's idempotent, meaning sending the same request multiple times results in the same outcome (unlike POST)."
   ]
  },
  {
   "cell_type": "markdown",
   "id": "3723490d",
   "metadata": {},
   "source": [
    "> requests.put(url, params={key: value}, **args)"
   ]
  },
  {
   "cell_type": "markdown",
   "id": "35334944",
   "metadata": {},
   "source": [
    "# Parameters:\n",
    "\n",
    "- url: The target endpoint.\n",
    "- data: Dictionary or string to be sent in the body (often form or JSON data).\n",
    "- args: Optional parameters like headers, authentication, timeout, etc."
   ]
  },
  {
   "cell_type": "code",
   "execution_count": 1,
   "id": "4ad95bc0",
   "metadata": {},
   "outputs": [
    {
     "name": "stdout",
     "output_type": "stream",
     "text": [
      "Status Code: 200\n",
      "Response Body: {\n",
      "  \"args\": {}, \n",
      "  \"data\": \"\", \n",
      "  \"files\": {}, \n",
      "  \"form\": {\n",
      "    \"key\": \"value\"\n",
      "  }, \n",
      "  \"headers\": {\n",
      "    \"Accept\": \"*/*\", \n",
      "    \"Accept-Encoding\": \"gzip, deflate\", \n",
      "    \"Content-Length\": \"9\", \n",
      "    \"Content-Type\": \"application/x-www-form-urlencoded\", \n",
      "    \"Host\": \"httpbin.org\", \n",
      "    \"User-Agent\": \"python-requests/2.32.5\", \n",
      "    \"X-Amzn-Trace-Id\": \"Root=1-69059456-6a4829530f4ebca25e2b0d2f\"\n",
      "  }, \n",
      "  \"json\": null, \n",
      "  \"origin\": \"157.51.235.244\", \n",
      "  \"url\": \"https://httpbin.org/put\"\n",
      "}\n",
      "\n"
     ]
    }
   ],
   "source": [
    "# Example – Making a PUT Request\n",
    "# In this example, we are going to make a real PUT Request using httpbin.org, a public testing API.\n",
    "\n",
    "\n",
    "import requests\n",
    "\n",
    "res = requests.put('https://httpbin.org/put', data={'key': 'value'})\n",
    "\n",
    "print(\"Status Code:\", res.status_code)\n",
    "\n",
    "print(\"Response Body:\", res.content.decode())"
   ]
  },
  {
   "cell_type": "markdown",
   "id": "c4990f0e",
   "metadata": {},
   "source": [
    "Explanation:\n",
    "\n",
    "- requests.put() sends the PUT request to the specified URL.\n",
    "- data parameter inside requests.put() is used to pass the key-value data to be updated or created on the server.\n",
    "- print(r) displays the response object, including the HTTP status code (e.g., 200 for success).\n",
    "- print(r.content) prints the response body returned by the server after processing the PUT request.\n",
    "- "
   ]
  },
  {
   "cell_type": "markdown",
   "id": "d0e51de6",
   "metadata": {},
   "source": []
  }
 ],
 "metadata": {
  "kernelspec": {
   "display_name": "Python 3",
   "language": "python",
   "name": "python3"
  },
  "language_info": {
   "codemirror_mode": {
    "name": "ipython",
    "version": 3
   },
   "file_extension": ".py",
   "mimetype": "text/x-python",
   "name": "python",
   "nbconvert_exporter": "python",
   "pygments_lexer": "ipython3",
   "version": "3.11.9"
  }
 },
 "nbformat": 4,
 "nbformat_minor": 5
}
