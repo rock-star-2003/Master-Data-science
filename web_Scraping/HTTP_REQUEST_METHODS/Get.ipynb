{
 "cells": [
  {
   "cell_type": "markdown",
   "id": "15754e08",
   "metadata": {},
   "source": [
    "# GET method - Python requests"
   ]
  },
  {
   "cell_type": "markdown",
   "id": "c6977692",
   "metadata": {},
   "source": [
    "Requests library is one of the important aspects of Python for making HTTP requests to a specified URL. This article revolves around how one can make GET request to a specified URL using requests.GET() method. Before checking out GET method, let's figure out what a GET request is -\n",
    "\n",
    "GET Http Method\n",
    "The GET method is used to retrieve information from the given server using a given URL. The GET method sends the encoded user information appended to the page request. The page and the encoded information are separated by the ‘?’ character. For example:\n",
    "\n",
    "> https://www.google.com/search?q=hello\n",
    "\n",
    "### How to make GET request through Python Requests\n",
    "\n",
    "Python's requests module provides in-built method called get() for making a GET request to a specified URL. \n",
    "\n",
    "#### Syntax - \n",
    "\n",
    "> requests.get(url, params={key: value}, args)\n",
    "\n",
    "<u>Example - Let's try making a request to Github's APIs for example purposes. </u>\n"
   ]
  },
  {
   "cell_type": "code",
   "execution_count": 1,
   "id": "b4713417",
   "metadata": {},
   "outputs": [
    {
     "name": "stdout",
     "output_type": "stream",
     "text": [
      "<Response [404]>\n",
      "b'{\\r\\n  \"message\": \"Not Found\",\\r\\n  \"documentation_url\": \"https://docs.github.com/rest\",\\r\\n  \"status\": \"404\"\\r\\n}'\n"
     ]
    }
   ],
   "source": [
    "import requests\n",
    " \n",
    "# Making a GET request\n",
    "r = requests.get('https://api.github.com/ / users /rock-star-2003')\n",
    "\n",
    "# check status code for response received\n",
    "# success code - 200\n",
    "print(r)\n",
    "\n",
    "# print content of request\n",
    "print(r.content)"
   ]
  },
  {
   "cell_type": "markdown",
   "id": "84a24645",
   "metadata": {},
   "source": [
    "### Advantages of Using the GET Method\n",
    "- Since the data sent by the GET method are displayed in the URL, it is possible to bookmark the page with specific query string values.\n",
    "- GET requests can be cached and GET requests remain in the browser history.\n",
    "- GET requests can be bookmarked.\n",
    "### Disadvantages of Using the GET Method\n",
    "- The GET method is not suitable for passing sensitive information such as the username and password, because these are fully visible in the URL query string as well as potentially stored \n",
    "- in the client browser’s memory as a visited page.\n",
    "- Because the GET method assigns data to a server environment variable, the length of the URL is limited. So, there is a limitation for the total data to be sent."
   ]
  }
 ],
 "metadata": {
  "kernelspec": {
   "display_name": "Python 3",
   "language": "python",
   "name": "python3"
  },
  "language_info": {
   "codemirror_mode": {
    "name": "ipython",
    "version": 3
   },
   "file_extension": ".py",
   "mimetype": "text/x-python",
   "name": "python",
   "nbconvert_exporter": "python",
   "pygments_lexer": "ipython3",
   "version": "3.11.9"
  }
 },
 "nbformat": 4,
 "nbformat_minor": 5
}
