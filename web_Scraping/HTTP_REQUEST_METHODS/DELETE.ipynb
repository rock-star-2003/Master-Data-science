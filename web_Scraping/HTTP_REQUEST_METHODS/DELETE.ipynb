{
 "cells": [
  {
   "cell_type": "markdown",
   "id": "3429d061",
   "metadata": {},
   "source": [
    "# DELETE method- Python requests"
   ]
  },
  {
   "cell_type": "markdown",
   "id": "f14597a2",
   "metadata": {},
   "source": [
    "Requests library is one of the important aspects of Python for making HTTP requests to a specified URL. This article revolves around how one can make DELETE request to a specified URL using requests.delete() method. Before checking out the DELETE method, let's figure out what a Http DELETE request is -\n",
    "\n",
    "DELETE Http Method\n",
    "\n",
    "DELETE is a request method supported by HTTP used by the World Wide Web. The DELETE method deletes the specified resource. As with a PUT request, you need to specify a particular resource for this operation. A successful response SHOULD be 200 (OK) if the response includes an entity describing the status, 202 (Accepted) if the action has not yet been enacted, or 204 (No Content) if the action has been enacted but the response does not include an entity. An example URI looks like for delete operation"
   ]
  },
  {
   "cell_type": "markdown",
   "id": "ef8a574c",
   "metadata": {},
   "source": [
    "> http://www.example.com/articles/12345"
   ]
  },
  {
   "cell_type": "markdown",
   "id": "772b2c46",
   "metadata": {},
   "source": [
    "# How to make DELETE request through Python Requests\n",
    "Python's requests module provides in-built method called delete() for making a DELETE request to a specified URI. Syntax -"
   ]
  },
  {
   "cell_type": "markdown",
   "id": "67b46cde",
   "metadata": {},
   "source": [
    "> requests.delete(url, params={key: value}, args)\n"
   ]
  },
  {
   "cell_type": "code",
   "execution_count": 3,
   "id": "a6f3818f",
   "metadata": {},
   "outputs": [
    {
     "name": "stdout",
     "output_type": "stream",
     "text": [
      "<Response [404]>\n"
     ]
    }
   ],
   "source": [
    "# <!-- Example - Let's try making a request to httpbin's APIs for example purposes. -->\n",
    "\n",
    "import requests\n",
    "\n",
    "# Making a DELETE request\n",
    "r = requests.delete('https://httpbin.org/ / delete', data ={'key':'value'})\n",
    "\n",
    "# check status code for response received\n",
    "# success code - 200\n",
    "print(r)\n",
    "\n",
    "# print content of request"
   ]
  },
  {
   "cell_type": "markdown",
   "id": "5e0f8077",
   "metadata": {},
   "source": [
    "# Advanced with DELETE request\n",
    "The DELETE method requests that the origin server delete the resource identified by the Request-URI. This method MAY be overridden by human intervention (or other means) on the origin server. The client cannot be guaranteed that the operation has been carried out, even if the status code returned from the origin server indicates that the action has been completed successfully. However, the server SHOULD NOT indicate success unless, at the time the response is given, it intends to delete the resource or move it to an inaccessible location."
   ]
  },
  {
   "cell_type": "markdown",
   "id": "d16c5436",
   "metadata": {},
   "source": []
  }
 ],
 "metadata": {
  "kernelspec": {
   "display_name": "Python 3",
   "language": "python",
   "name": "python3"
  },
  "language_info": {
   "codemirror_mode": {
    "name": "ipython",
    "version": 3
   },
   "file_extension": ".py",
   "mimetype": "text/x-python",
   "name": "python",
   "nbconvert_exporter": "python",
   "pygments_lexer": "ipython3",
   "version": "3.11.9"
  }
 },
 "nbformat": 4,
 "nbformat_minor": 5
}
