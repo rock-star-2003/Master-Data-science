{
 "cells": [
  {
   "cell_type": "markdown",
   "id": "1461422a",
   "metadata": {},
   "source": [
    "# POST method - Python requests"
   ]
  },
  {
   "cell_type": "markdown",
   "id": "6eb65b54",
   "metadata": {},
   "source": [
    "\n",
    "POST is a request method supported by HTTP used by the World Wide Web. By design, the POST request method requests that a web server accepts the data enclosed in the body of the request message, most likely for storing it. It is often used when uploading a file or when submitting a completed web form. "
   ]
  },
  {
   "cell_type": "markdown",
   "id": "99e1fc98",
   "metadata": {},
   "source": [
    "POST is a request method supported by HTTP used by the World Wide Web. By design, the POST request method requests that a web server accepts the data enclosed in the body of the request message, most likely for storing it. It is often used when uploading a file or when submitting a completed web form. "
   ]
  },
  {
   "cell_type": "markdown",
   "id": "aecd65ce",
   "metadata": {},
   "source": [
    "## How to make POST request through Python Requests\n",
    "\n",
    "Python's requests module provides in-built method called post() for making a POST request to a specified URI.\n",
    "Syntax - "
   ]
  },
  {
   "cell_type": "markdown",
   "id": "ba833783",
   "metadata": {},
   "source": [
    "> requests.post(url, params={key: value}, args)"
   ]
  },
  {
   "cell_type": "code",
   "execution_count": 1,
   "id": "53969553",
   "metadata": {},
   "outputs": [
    {
     "data": {
      "text/plain": [
       "<Response [404]>"
      ]
     },
     "execution_count": 1,
     "metadata": {},
     "output_type": "execute_result"
    }
   ],
   "source": [
    "import requests\n",
    "responce  = requests.post('https://httpbin.org/ / post',data={'key','value'})\n",
    "responce"
   ]
  },
  {
   "cell_type": "markdown",
   "id": "dc74a010",
   "metadata": {},
   "source": [
    "# Advantages of using POST Method\n",
    "- It is more secure than GET because user-entered information is never visible in the URL query string or in the server logs.\n",
    "- There is a much larger limit on the amount of data that can be passed and one can send text data as well as binary data (uploading a file) using POST. \n",
    "# Disadvantages of using the POST Method\n",
    "- Since the data sent by the POST method is not visible in the URL, so it is not possible to bookmark the page with specific query.\n",
    "- POST requests are never cached\n",
    "- POST requests do not remain in the browser history."
   ]
  }
 ],
 "metadata": {
  "kernelspec": {
   "display_name": "Python 3",
   "language": "python",
   "name": "python3"
  },
  "language_info": {
   "codemirror_mode": {
    "name": "ipython",
    "version": 3
   },
   "file_extension": ".py",
   "mimetype": "text/x-python",
   "name": "python",
   "nbconvert_exporter": "python",
   "pygments_lexer": "ipython3",
   "version": "3.11.9"
  }
 },
 "nbformat": 4,
 "nbformat_minor": 5
}
