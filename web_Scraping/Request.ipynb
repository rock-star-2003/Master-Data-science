{
 "cells": [
  {
   "cell_type": "markdown",
   "id": "5be86b18",
   "metadata": {},
   "source": [
    "gek"
   ]
  }
 ],
 "metadata": {
  "language_info": {
   "name": "python"
  }
 },
 "nbformat": 4,
 "nbformat_minor": 5
}
