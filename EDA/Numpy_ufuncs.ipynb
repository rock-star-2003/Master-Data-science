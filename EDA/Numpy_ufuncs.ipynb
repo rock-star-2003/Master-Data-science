{
 "cells": [
  {
   "cell_type": "markdown",
   "id": "5003dce8",
   "metadata": {},
   "source": [
    "# NumPy ufuncs\n",
    "## What are ufuncs?\n",
    "ufuncs stands for \"Universal Functions\" and they are NumPy functions that operate on the ndarray object."
   ]
  },
  {
   "cell_type": "markdown",
   "id": "eac15c3e",
   "metadata": {},
   "source": [
    "## Why use ufuncs?\n",
    "ufuncs are used to implement vectorization in NumPy which is way faster than iterating over elements.\n",
    "\n",
    "They also provide broadcasting and additional methods like reduce, accumulate etc. that are very helpful for computation.\n",
    "\n",
    "ufuncs also take additional arguments, like:\n",
    "\n",
    "where boolean array or condition defining where the operations should take place.\n",
    "\n",
    "dtype defining the return type of elements.\n",
    "\n",
    "out output array where the return value should be copied.\n"
   ]
  },
  {
   "cell_type": "markdown",
   "id": "f03c1377",
   "metadata": {},
   "source": [
    "## What is Vectorization?\n",
    "Converting iterative statements into a vector based operation is called vectorization.\n",
    "\n",
    "It is faster as modern CPUs are optimized for such operations."
   ]
  },
  {
   "cell_type": "markdown",
   "id": "964b527e",
   "metadata": {},
   "source": [
    "## Add the Elements of Two Lists\n",
    "list 1: [1, 2, 3, 4]\n",
    "\n",
    "list 2: [4, 5, 6, 7]\n",
    "\n",
    "One way of doing it is to iterate over both of the lists and then sum each elements.\n",
    "\n",
    "Without ufunc, we can use Python's built-in zip() method:"
   ]
  },
  {
   "cell_type": "code",
   "execution_count": 3,
   "id": "a87bbcc8",
   "metadata": {},
   "outputs": [
    {
     "data": {
      "text/plain": [
       "[6, 8, 10, 12, 14]"
      ]
     },
     "execution_count": 3,
     "metadata": {},
     "output_type": "execute_result"
    }
   ],
   "source": [
    "lst1 = [1,2,3,4,5]\n",
    "lst2 = [5,6,7,8,9]\n",
    "lst3 = []\n",
    "\n",
    "for i,j in zip(lst1,lst2):\n",
    "    lst3.append(i+j)\n",
    "\n",
    "lst3"
   ]
  },
  {
   "cell_type": "markdown",
   "id": "c1535c50",
   "metadata": {},
   "source": [
    "NumPy has a ufunc for this, called add(x, y) that will produce the same result."
   ]
  },
  {
   "cell_type": "code",
   "execution_count": 4,
   "id": "e23f4239",
   "metadata": {},
   "outputs": [
    {
     "data": {
      "text/plain": [
       "array([ 6,  8, 10, 12, 14])"
      ]
     },
     "execution_count": 4,
     "metadata": {},
     "output_type": "execute_result"
    }
   ],
   "source": [
    "import numpy as np\n",
    "np.add(lst1,lst2)"
   ]
  },
  {
   "cell_type": "markdown",
   "id": "67ae3083",
   "metadata": {},
   "source": [
    "# Create Your Own ufunc\n",
    "## How To Create Your Own ufunc\n",
    "To create your own ufunc, you have to define a function, like you do with normal functions in Python, then you add it to your NumPy ufunc library with the frompyfunc() method.\n",
    "\n",
    "### The frompyfunc() method takes the following arguments:\n",
    "\n",
    "- function - the name of the function.\n",
    "- inputs - the number of input arguments (arrays).\n",
    "- outputs - the number of output arrays."
   ]
  },
  {
   "cell_type": "code",
   "execution_count": 21,
   "id": "9aa10943",
   "metadata": {},
   "outputs": [
    {
     "data": {
      "text/plain": [
       "array([7, 9, 11, 13, 5], dtype=object)"
      ]
     },
     "execution_count": 21,
     "metadata": {},
     "output_type": "execute_result"
    }
   ],
   "source": [
    "import numpy as np\n",
    "def myadd(a,b):\n",
    "    return a+b\n",
    "\n",
    "myadd = np.frompyfunc(myadd,2,1)\n",
    "\n",
    "myadd([1,2,3,4,5],[6,7,8,9,0])"
   ]
  },
  {
   "cell_type": "markdown",
   "id": "d6b4b13b",
   "metadata": {},
   "source": [
    "## Check if a Function is a ufunc\n",
    "Check the type of a function to check if it is a ufunc or not.\n",
    "\n",
    "A ufunc should return <class 'numpy.ufunc'>."
   ]
  },
  {
   "cell_type": "code",
   "execution_count": 22,
   "id": "18b049b4",
   "metadata": {},
   "outputs": [
    {
     "data": {
      "text/plain": [
       "numpy.ufunc"
      ]
     },
     "execution_count": 22,
     "metadata": {},
     "output_type": "execute_result"
    }
   ],
   "source": [
    "type(np.add)"
   ]
  },
  {
   "cell_type": "code",
   "execution_count": 25,
   "id": "772af61f",
   "metadata": {},
   "outputs": [
    {
     "data": {
      "text/plain": [
       "numpy.ufunc"
      ]
     },
     "execution_count": 25,
     "metadata": {},
     "output_type": "execute_result"
    }
   ],
   "source": [
    "type(myadd)"
   ]
  },
  {
   "cell_type": "markdown",
   "id": "9f2a62ad",
   "metadata": {},
   "source": [
    "To test if the function is a ufunc in an if statement, use the numpy.ufunc value (or np.ufunc if you use np as an alias for numpy):\n",
    "\n",
    "#### Example\n",
    "Use an if statement to check if the function is a ufunc or not:"
   ]
  },
  {
   "cell_type": "code",
   "execution_count": 26,
   "id": "37a1006c",
   "metadata": {},
   "outputs": [
    {
     "name": "stdout",
     "output_type": "stream",
     "text": [
      "add is ufunc\n"
     ]
    }
   ],
   "source": [
    "\n",
    "\n",
    "import numpy as np\n",
    "\n",
    "if type(np.add) == np.ufunc:\n",
    "  print('add is ufunc')\n",
    "else:\n",
    "  print('add is not ufunc')"
   ]
  },
  {
   "cell_type": "markdown",
   "id": "777e3269",
   "metadata": {},
   "source": [
    "# Simple Arithmetic\n",
    "\n",
    "You could use arithmetic operators + - * / directly between NumPy arrays, but this section discusses an extension of the same where we have functions that can take any array-like objects e.g. lists, tuples etc. and perform arithmetic conditionally.\n",
    "\n",
    "<mark>Arithmetic Conditionally: means that we can define conditions where the arithmetic operation should happen</mark>\n",
    "\n",
    "All of the discussed arithmetic functions take a where parameter in which we can specify that condition.\n"
   ]
  },
  {
   "cell_type": "markdown",
   "id": "9ee013b7",
   "metadata": {},
   "source": [
    "## Addition\n",
    "The add() function sums the content of two arrays, and return the results in a new array."
   ]
  },
  {
   "cell_type": "code",
   "execution_count": 30,
   "id": "e43ff49a",
   "metadata": {},
   "outputs": [
    {
     "data": {
      "text/plain": [
       "array([ 4,  6,  9, 11, 14, 14])"
      ]
     },
     "execution_count": 30,
     "metadata": {},
     "output_type": "execute_result"
    }
   ],
   "source": [
    "arr1 = np.array([1,2,3,4,5,6])\n",
    "arr2 = np.array([3,4,6,7,9,8])\n",
    "\n",
    "np.add(arr1,arr2)"
   ]
  },
  {
   "cell_type": "markdown",
   "id": "a8cfb0c0",
   "metadata": {},
   "source": [
    "## Subtraction\n",
    "The subtract() function subtracts the values from one array with the values from another array, and return the results in a new array."
   ]
  },
  {
   "cell_type": "code",
   "execution_count": 31,
   "id": "e9535bf3",
   "metadata": {},
   "outputs": [
    {
     "data": {
      "text/plain": [
       "array([-2, -2, -3, -3, -4, -2])"
      ]
     },
     "execution_count": 31,
     "metadata": {},
     "output_type": "execute_result"
    }
   ],
   "source": [
    "np.subtract(arr1,arr2)"
   ]
  },
  {
   "cell_type": "markdown",
   "id": "1bfb8d36",
   "metadata": {},
   "source": [
    "## Multiplication\n",
    "The multiply() function multiplies the values from one array with the values from another array, and return the results in a new array."
   ]
  },
  {
   "cell_type": "code",
   "execution_count": 33,
   "id": "12cc0141",
   "metadata": {},
   "outputs": [
    {
     "data": {
      "text/plain": [
       "array([ 3,  8, 18, 28, 45, 48])"
      ]
     },
     "execution_count": 33,
     "metadata": {},
     "output_type": "execute_result"
    }
   ],
   "source": [
    "np.multiply(arr1,arr2)"
   ]
  },
  {
   "cell_type": "markdown",
   "id": "b9bdf28b",
   "metadata": {},
   "source": [
    "## Division\n",
    "The divide() function divides the values from one array with the values from another array, and return the results in a new array."
   ]
  },
  {
   "cell_type": "code",
   "execution_count": 34,
   "id": "ac2dd374",
   "metadata": {},
   "outputs": [
    {
     "data": {
      "text/plain": [
       "array([0.33333333, 0.5       , 0.5       , 0.57142857, 0.55555556,\n",
       "       0.75      ])"
      ]
     },
     "execution_count": 34,
     "metadata": {},
     "output_type": "execute_result"
    }
   ],
   "source": [
    "np.divide(arr1,arr2)"
   ]
  },
  {
   "cell_type": "markdown",
   "id": "b4e2da07",
   "metadata": {},
   "source": [
    "## Power\n",
    "The power() function rises the values from the first array to the power of the values of the second array, and return the results in a new array."
   ]
  },
  {
   "cell_type": "code",
   "execution_count": 35,
   "id": "8299089c",
   "metadata": {},
   "outputs": [
    {
     "data": {
      "text/plain": [
       "array([      1,      16,     729,   16384, 1953125, 1679616])"
      ]
     },
     "execution_count": 35,
     "metadata": {},
     "output_type": "execute_result"
    }
   ],
   "source": [
    "np.power(arr1,arr2)"
   ]
  },
  {
   "cell_type": "markdown",
   "id": "df35f88a",
   "metadata": {},
   "source": [
    "## Remainder\n",
    "Both the mod() and the remainder() functions return the remainder of the values in the first array corresponding to the values in the second array, and return the results in a new array."
   ]
  },
  {
   "cell_type": "code",
   "execution_count": 36,
   "id": "5f4bb4db",
   "metadata": {},
   "outputs": [
    {
     "data": {
      "text/plain": [
       "array([1, 2, 3, 4, 5, 6])"
      ]
     },
     "execution_count": 36,
     "metadata": {},
     "output_type": "execute_result"
    }
   ],
   "source": [
    "np.remainder(arr1,arr2)"
   ]
  },
  {
   "cell_type": "code",
   "execution_count": 37,
   "id": "6496a1b9",
   "metadata": {},
   "outputs": [
    {
     "data": {
      "text/plain": [
       "array([1, 2, 3, 4, 5, 6])"
      ]
     },
     "execution_count": 37,
     "metadata": {},
     "output_type": "execute_result"
    }
   ],
   "source": [
    "np.mod(arr1,arr2)"
   ]
  },
  {
   "cell_type": "markdown",
   "id": "081fac4c",
   "metadata": {},
   "source": [
    "## Quotient and Mod\n",
    "The divmod() function return both the quotient and the mod. The return value is two arrays, the first array contains the quotient and second array contains the mod."
   ]
  },
  {
   "cell_type": "code",
   "execution_count": 38,
   "id": "3b8cca61",
   "metadata": {},
   "outputs": [
    {
     "data": {
      "text/plain": [
       "(array([0, 0, 0, 0, 0, 0]), array([1, 2, 3, 4, 5, 6]))"
      ]
     },
     "execution_count": 38,
     "metadata": {},
     "output_type": "execute_result"
    }
   ],
   "source": [
    "np.divmod(arr1,arr2)"
   ]
  },
  {
   "cell_type": "markdown",
   "id": "9631a290",
   "metadata": {},
   "source": [
    "## Absolute Values\n",
    "Both the absolute() and the abs() functions do the same absolute operation element-wise but we should use absolute() to avoid confusion with python's inbuilt math.abs()"
   ]
  },
  {
   "cell_type": "code",
   "execution_count": 39,
   "id": "108e6370",
   "metadata": {},
   "outputs": [
    {
     "data": {
      "text/plain": [
       "array([1, 2, 3, 4, 5, 6])"
      ]
     },
     "execution_count": 39,
     "metadata": {},
     "output_type": "execute_result"
    }
   ],
   "source": [
    "np.absolute(arr1,arr2)"
   ]
  },
  {
   "cell_type": "markdown",
   "id": "f70c2acf",
   "metadata": {},
   "source": [
    "# Rounding Decimals\n",
    "There are primarily five ways of rounding off decimals in NumPy:\n",
    "\n",
    "- truncation\n",
    "- fix\n",
    "- rounding\n",
    "- floor\n",
    "- ceil"
   ]
  },
  {
   "cell_type": "markdown",
   "id": "8fd17cdb",
   "metadata": {},
   "source": [
    "## Truncation\n",
    "Remove the decimals, and return the float number closest to zero. Use the trunc() and fix() functions."
   ]
  },
  {
   "cell_type": "code",
   "execution_count": 40,
   "id": "d54ced68",
   "metadata": {},
   "outputs": [
    {
     "data": {
      "text/plain": [
       "array([1., 2.])"
      ]
     },
     "execution_count": 40,
     "metadata": {},
     "output_type": "execute_result"
    }
   ],
   "source": [
    "np.trunc([1.235667,2.3456755])"
   ]
  },
  {
   "cell_type": "code",
   "execution_count": 41,
   "id": "4b39c2a9",
   "metadata": {},
   "outputs": [
    {
     "data": {
      "text/plain": [
       "array([1., 2.])"
      ]
     },
     "execution_count": 41,
     "metadata": {},
     "output_type": "execute_result"
    }
   ],
   "source": [
    "np.fix([1.235667,2.3456755])"
   ]
  },
  {
   "cell_type": "markdown",
   "id": "52532082",
   "metadata": {},
   "source": [
    "## Rounding\n",
    "The around() function increments preceding digit or decimal by 1 if >=5 else do nothing.\n",
    "\n",
    "E.g. round off to 1 decimal point, 3.16666 is 3.2\n",
    "\n",
    "Round off 3.1666 to 2 decimal places:"
   ]
  },
  {
   "cell_type": "code",
   "execution_count": 44,
   "id": "09ed85ea",
   "metadata": {},
   "outputs": [
    {
     "data": {
      "text/plain": [
       "np.float64(3.17)"
      ]
     },
     "execution_count": 44,
     "metadata": {},
     "output_type": "execute_result"
    }
   ],
   "source": [
    "np.round(3.16666,2)"
   ]
  },
  {
   "cell_type": "markdown",
   "id": "1c196d3b",
   "metadata": {},
   "source": [
    "## Floor\n",
    "The floor() function rounds off decimal to nearest lower integer.\n",
    "\n",
    "E.g. floor of 3.166 is 3."
   ]
  },
  {
   "cell_type": "code",
   "execution_count": 45,
   "id": "a4761dbd",
   "metadata": {},
   "outputs": [
    {
     "data": {
      "text/plain": [
       "array([-4.,  4.])"
      ]
     },
     "execution_count": 45,
     "metadata": {},
     "output_type": "execute_result"
    }
   ],
   "source": [
    "np.floor([-3.45634,4.5675])"
   ]
  },
  {
   "cell_type": "code",
   "execution_count": null,
   "id": "37e7e36a",
   "metadata": {},
   "outputs": [],
   "source": []
  }
 ],
 "metadata": {
  "kernelspec": {
   "display_name": "Python 3",
   "language": "python",
   "name": "python3"
  },
  "language_info": {
   "codemirror_mode": {
    "name": "ipython",
    "version": 3
   },
   "file_extension": ".py",
   "mimetype": "text/x-python",
   "name": "python",
   "nbconvert_exporter": "python",
   "pygments_lexer": "ipython3",
   "version": "3.11.9"
  }
 },
 "nbformat": 4,
 "nbformat_minor": 5
}
