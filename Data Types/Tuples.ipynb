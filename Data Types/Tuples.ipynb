{
 "cells": [
  {
   "cell_type": "markdown",
   "id": "0e9569fd",
   "metadata": {},
   "source": [
    "# Python Tuples\n",
    "- Tuples are used to store multiple items in a single variable.\n",
    "\n",
    "- Tuple is one of 4 built-in data types in Python used to store collections of data, the other 3 are List, Set, and Dictionary, all with different - - qualities and usage.\n",
    "\n",
    "- A tuple is a collection which is ordered and unchangeable.\n",
    "\n",
    "- Tuples are written with round brackets."
   ]
  },
  {
   "cell_type": "code",
   "execution_count": 22,
   "id": "c08eae62",
   "metadata": {},
   "outputs": [
    {
     "data": {
      "text/plain": [
       "('hello', 'my', 'Dear', 'appu', 'kutta')"
      ]
     },
     "execution_count": 22,
     "metadata": {},
     "output_type": "execute_result"
    }
   ],
   "source": [
    "first_tuple = ('hello','my','Dear','appu','kutta')\n",
    "first_tuple"
   ]
  },
  {
   "cell_type": "markdown",
   "id": "398fdf9d",
   "metadata": {},
   "source": [
    "## Tuple Items\n",
    "- Tuple items are ordered, unchangeable, and allow duplicate values.\n",
    "\n",
    "- Tuple items are indexed, the first item has index [0], the second item has index [1] etc.\n",
    "\n",
    "    ### Ordered\n",
    "    1. When we say that tuples are ordered, it means that the items have a defined order, and that order will not change.\n",
    "    ### Unchangeable\n",
    "    1. Tuples are unchangeable, meaning that we cannot change, add or remove items after the tuple has been created.\n",
    "    ### Allow Duplicates\n",
    "    - Since tuples are indexed, they can have items with the same value:"
   ]
  },
  {
   "cell_type": "markdown",
   "id": "df24966e",
   "metadata": {},
   "source": [
    "## Tuple Length\n",
    "To determine how many items a tuple has, use the len() function:"
   ]
  },
  {
   "cell_type": "code",
   "execution_count": 23,
   "id": "14c38729",
   "metadata": {},
   "outputs": [
    {
     "data": {
      "text/plain": [
       "5"
      ]
     },
     "execution_count": 23,
     "metadata": {},
     "output_type": "execute_result"
    }
   ],
   "source": [
    "len(first_tuple)"
   ]
  },
  {
   "cell_type": "markdown",
   "id": "65549f85",
   "metadata": {},
   "source": [
    "## Create Tuple With One Item\n",
    "To create a tuple with only one item, you have to add a comma after the item, otherwise Python will not recognize it as a tuple."
   ]
  },
  {
   "cell_type": "code",
   "execution_count": 24,
   "id": "03e8c0f3",
   "metadata": {},
   "outputs": [
    {
     "name": "stdout",
     "output_type": "stream",
     "text": [
      "<class 'str'> water\n",
      "<class 'tuple'> ('water',)\n"
     ]
    }
   ],
   "source": [
    "single_item = ('water')\n",
    "print(type(single_item),single_item)\n",
    "\n",
    "with_comma = ('water',)\n",
    "print(type(with_comma),with_comma)"
   ]
  },
  {
   "cell_type": "markdown",
   "id": "ce344f8a",
   "metadata": {},
   "source": [
    "## Tuple Items - Data Types\n",
    "Tuple items can be of any data type:"
   ]
  },
  {
   "cell_type": "code",
   "execution_count": 25,
   "id": "86cc96d1",
   "metadata": {},
   "outputs": [],
   "source": [
    "tuple1 = (\"apple\", \"banana\", \"cherry\")\n",
    "tuple2 = (1, 5, 7, 9, 3)\n",
    "tuple3 = (True, False, False)"
   ]
  },
  {
   "cell_type": "markdown",
   "id": "80ae3888",
   "metadata": {},
   "source": [
    "## type()\n",
    "From Python's perspective, tuples are defined as objects with the data type 'tuple':"
   ]
  },
  {
   "cell_type": "code",
   "execution_count": 26,
   "id": "2a9900d6",
   "metadata": {},
   "outputs": [
    {
     "name": "stdout",
     "output_type": "stream",
     "text": [
      "<class 'tuple'>\n"
     ]
    }
   ],
   "source": [
    "mytuple = (\"apple\", \"banana\", \"cherry\")\n",
    "print(type(mytuple))"
   ]
  },
  {
   "cell_type": "markdown",
   "id": "839f4456",
   "metadata": {},
   "source": [
    "## The tuple() Constructor\n",
    "It is also possible to use the tuple() constructor to make a tuple."
   ]
  },
  {
   "cell_type": "code",
   "execution_count": 27,
   "id": "9284a7d1",
   "metadata": {},
   "outputs": [
    {
     "data": {
      "text/plain": [
       "(1, 2, 3, 4)"
      ]
     },
     "execution_count": 27,
     "metadata": {},
     "output_type": "execute_result"
    }
   ],
   "source": [
    "data_tuple = tuple((1,2,3,4))\n",
    "data_tuple"
   ]
  },
  {
   "cell_type": "markdown",
   "id": "ac6ccc92",
   "metadata": {},
   "source": [
    "---"
   ]
  },
  {
   "cell_type": "markdown",
   "id": "7b41cdee",
   "metadata": {},
   "source": [
    "# Access Tuple Items\n",
    "You can access tuple items by referring to the index number, inside square brackets:"
   ]
  },
  {
   "cell_type": "code",
   "execution_count": 28,
   "id": "1b1b420e",
   "metadata": {},
   "outputs": [
    {
     "name": "stdout",
     "output_type": "stream",
     "text": [
      "banana\n"
     ]
    }
   ],
   "source": [
    "thistuple = (\"apple\", \"banana\", \"cherry\")\n",
    "print(thistuple[1])"
   ]
  },
  {
   "cell_type": "markdown",
   "id": "eb42e591",
   "metadata": {},
   "source": [
    "## Negative Indexing\n",
    "- Negative indexing means start from the end.\n",
    "\n",
    "- -1 refers to the last item, -2 refers to the second last item etc.|"
   ]
  },
  {
   "cell_type": "code",
   "execution_count": 29,
   "id": "112d2964",
   "metadata": {},
   "outputs": [
    {
     "name": "stdout",
     "output_type": "stream",
     "text": [
      "cherry\n"
     ]
    }
   ],
   "source": [
    "thistuple = (\"apple\", \"banana\", \"cherry\")\n",
    "print(thistuple[-1])"
   ]
  },
  {
   "cell_type": "markdown",
   "id": "4862f8cb",
   "metadata": {},
   "source": [
    "## Range of Indexes\n",
    "- You can specify a range of indexes by specifying where to start and where to end the range.\n",
    "\n",
    "- When specifying a range, the return value will be a new tuple with the specified items."
   ]
  },
  {
   "cell_type": "code",
   "execution_count": 30,
   "id": "28ccfe5a",
   "metadata": {},
   "outputs": [
    {
     "name": "stdout",
     "output_type": "stream",
     "text": [
      "('cherry', 'orange', 'kiwi')\n"
     ]
    }
   ],
   "source": [
    "thistuple = (\"apple\", \"banana\", \"cherry\", \"orange\", \"kiwi\", \"melon\", \"mango\")\n",
    "print(thistuple[2:5])"
   ]
  },
  {
   "cell_type": "markdown",
   "id": "3658953d",
   "metadata": {},
   "source": [
    "## Check if Item Exists\n",
    "To determine if a specified item is present in a tuple use the in keyword:"
   ]
  },
  {
   "cell_type": "code",
   "execution_count": 31,
   "id": "a3da1c19",
   "metadata": {},
   "outputs": [
    {
     "name": "stdout",
     "output_type": "stream",
     "text": [
      "Yes, 'apple' is in the fruits tuple\n"
     ]
    }
   ],
   "source": [
    "thistuple = (\"apple\", \"banana\", \"cherry\")\n",
    "if \"apple\" in thistuple:\n",
    "  print(\"Yes, 'apple' is in the fruits tuple\")"
   ]
  },
  {
   "cell_type": "markdown",
   "id": "bafd6a87",
   "metadata": {},
   "source": [
    "---"
   ]
  },
  {
   "cell_type": "markdown",
   "id": "2417aab1",
   "metadata": {},
   "source": [
    "# Update Tuples\n",
    "Tuples are unchangeable, meaning that you cannot change, add, or remove items once the tuple is created.\n",
    "\n",
    "But there are some workarounds.|"
   ]
  },
  {
   "cell_type": "markdown",
   "id": "485da4ed",
   "metadata": {},
   "source": [
    "## Change Tuple Values\n",
    "Once a tuple is created, you cannot change its values. Tuples are unchangeable, or immutable as it also is called.\n",
    "\n",
    "But there is a workaround. You can convert the tuple into a list, change the list, and convert the list back into a tuple."
   ]
  },
  {
   "cell_type": "code",
   "execution_count": 32,
   "id": "1449a181",
   "metadata": {},
   "outputs": [
    {
     "data": {
      "text/plain": [
       "(1, 2, 10, 4, 5, 6, 7)"
      ]
     },
     "execution_count": 32,
     "metadata": {},
     "output_type": "execute_result"
    }
   ],
   "source": [
    "tpl = (1,2,3,4,5,6,7)\n",
    "tpl = list(tpl)\n",
    "tpl[2] = 10\n",
    "tpl = tuple(tpl)\n",
    "tpl"
   ]
  },
  {
   "cell_type": "markdown",
   "id": "100795ed",
   "metadata": {},
   "source": [
    "## Add Items\n",
    "Since tuples are immutable, they do not have a built-in append() method, but there are other ways to add items to a tuple.\n",
    "\n",
    "1. Convert into a list: Just like the workaround for changing a tuple, you can convert it into a list, add your item(s), and convert it back into a tuple."
   ]
  },
  {
   "cell_type": "code",
   "execution_count": 33,
   "id": "4f847b0d",
   "metadata": {},
   "outputs": [
    {
     "data": {
      "text/plain": [
       "(1, 2, 3, 4, 5, 20)"
      ]
     },
     "execution_count": 33,
     "metadata": {},
     "output_type": "execute_result"
    }
   ],
   "source": [
    "tpl = (1,2,3,4,5)\n",
    "lst_tpl = list(tpl)\n",
    "lst_tpl.append(20)\n",
    "tpl = tuple(lst_tpl)\n",
    "tpl"
   ]
  },
  {
   "cell_type": "markdown",
   "id": "33876483",
   "metadata": {},
   "source": [
    "2. Add tuple to a tuple. You are allowed to add tuples to tuples, so if you want to add one item, (or many), create a new tuple with the item(s), and add it to the existing tuple:"
   ]
  },
  {
   "cell_type": "code",
   "execution_count": 34,
   "id": "cad31d48",
   "metadata": {},
   "outputs": [
    {
     "data": {
      "text/plain": [
       "('car', 'bus', 'bike', 'plane', 'ship')"
      ]
     },
     "execution_count": 34,
     "metadata": {},
     "output_type": "execute_result"
    }
   ],
   "source": [
    "main_tpl = ('car','bus','bike')\n",
    "val_tpl = ('plane','ship')\n",
    "main_tpl += val_tpl\n",
    "main_tpl"
   ]
  },
  {
   "cell_type": "markdown",
   "id": "0cc60122",
   "metadata": {},
   "source": [
    "## Remove Items     \n",
    "<mark> Note: You cannot remove items in a tuple. </Mark>\n",
    "\n",
    "Tuples are unchangeable, so you cannot remove items from it, but you can use the same workaround as we used for changing and adding tuple items:"
   ]
  },
  {
   "cell_type": "code",
   "execution_count": 35,
   "id": "b1992373",
   "metadata": {},
   "outputs": [
    {
     "data": {
      "text/plain": [
       "('bus', 'bike')"
      ]
     },
     "execution_count": 35,
     "metadata": {},
     "output_type": "execute_result"
    }
   ],
   "source": [
    "tpl = ('car','bus','bike')\n",
    "lst_tpl = list(tpl)\n",
    "lst_tpl.remove('car')\n",
    "tpl = tuple(lst_tpl)\n",
    "tpl"
   ]
  },
  {
   "cell_type": "markdown",
   "id": "a0def2c9",
   "metadata": {},
   "source": [
    "Or you can delete the tuple completely:\n",
    "The del keyword can delete the tuple completely:"
   ]
  },
  {
   "cell_type": "code",
   "execution_count": 36,
   "id": "a0ad2e5e",
   "metadata": {},
   "outputs": [],
   "source": [
    "del tpl\n"
   ]
  },
  {
   "cell_type": "markdown",
   "id": "073d929f",
   "metadata": {},
   "source": [
    "---"
   ]
  },
  {
   "cell_type": "markdown",
   "id": "da7ba622",
   "metadata": {},
   "source": [
    "# Unpack Tuples\n",
    "- When we create a tuple, we normally assign values to it. This is called \"packing\" a tuple:\n",
    "- But, in Python, we are also allowed to extract the values back into variables. This is called \"unpacking\":\n"
   ]
  },
  {
   "cell_type": "markdown",
   "id": "94d53a28",
   "metadata": {},
   "source": [
    "#### Example\n",
    "Unpacking a tuple:"
   ]
  },
  {
   "cell_type": "code",
   "execution_count": 37,
   "id": "bb9dfc2d",
   "metadata": {},
   "outputs": [
    {
     "name": "stdout",
     "output_type": "stream",
     "text": [
      "mango orange berry\n"
     ]
    }
   ],
   "source": [
    "tpl_fruits = ('mango','orange','berry')\n",
    "(mango,orange,berry) = tpl_fruits\n",
    "print(mango,orange,berry)"
   ]
  },
  {
   "cell_type": "markdown",
   "id": "afb17031",
   "metadata": {},
   "source": [
    "<mark>Note: The number of variables must match the number of values in the tuple, if not, you must use an asterisk to collect the remaining values as a list.</mark>"
   ]
  },
  {
   "cell_type": "markdown",
   "id": "b5823acb",
   "metadata": {},
   "source": [
    "## Using Asterisk*\n",
    "If the number of variables is less than the number of values, you can add an * to the variable name and the values will be assigned to the variable as a list:"
   ]
  },
  {
   "cell_type": "code",
   "execution_count": 38,
   "id": "5ef51499",
   "metadata": {},
   "outputs": [
    {
     "data": {
      "text/plain": [
       "('car', 'bus', 'bike', ['plane', 'ship'])"
      ]
     },
     "execution_count": 38,
     "metadata": {},
     "output_type": "execute_result"
    }
   ],
   "source": [
    "# Assign the rest of the values as a list called \"red\":\n",
    "\n",
    "vehicle = ('car', 'bus', 'bike', 'plane', 'ship')\n",
    "(car,bus,bike,*big_vehicles) = vehicle\n",
    "car,bus,bike,big_vehicles"
   ]
  },
  {
   "cell_type": "markdown",
   "id": "a91263e4",
   "metadata": {},
   "source": [
    "If the asterisk is added to another variable name than the last, Python will assign values to the variable until the number of values left matches the number of variables left."
   ]
  },
  {
   "cell_type": "code",
   "execution_count": 39,
   "id": "5c3acc64",
   "metadata": {},
   "outputs": [
    {
     "data": {
      "text/plain": [
       "('car', ['bus', 'bike', 'plane'], 'ship')"
      ]
     },
     "execution_count": 39,
     "metadata": {},
     "output_type": "execute_result"
    }
   ],
   "source": [
    "(car,*vehicles,ship) = vehicle\n",
    "car,vehicles,ship"
   ]
  },
  {
   "cell_type": "markdown",
   "id": "64c92864",
   "metadata": {},
   "source": [
    "---"
   ]
  },
  {
   "cell_type": "markdown",
   "id": "4153182a",
   "metadata": {},
   "source": [
    "# Loop Tuples\n",
    "You can loop through the tuple items by using a for loop."
   ]
  },
  {
   "cell_type": "code",
   "execution_count": 40,
   "id": "2aa074e7",
   "metadata": {},
   "outputs": [
    {
     "name": "stdout",
     "output_type": "stream",
     "text": [
      "apple\n",
      "banana\n",
      "cherry\n"
     ]
    }
   ],
   "source": [
    "thistuple = (\"apple\", \"banana\", \"cherry\")\n",
    "for x in thistuple:\n",
    "  print(x)"
   ]
  },
  {
   "cell_type": "markdown",
   "id": "23084d7d",
   "metadata": {},
   "source": [
    "## Loop Through the Index Numbers\n",
    "- You can also loop through the tuple items by referring to their index number.\n",
    "\n",
    "- Use the range() and len() functions to create a suitable iterable."
   ]
  },
  {
   "cell_type": "code",
   "execution_count": 42,
   "id": "e730a0d7",
   "metadata": {},
   "outputs": [
    {
     "name": "stdout",
     "output_type": "stream",
     "text": [
      "car\n",
      "bus\n",
      "bike\n",
      "plane\n",
      "ship\n"
     ]
    }
   ],
   "source": [
    "vehicle = ('car', 'bus', 'bike', 'plane', 'ship')\n",
    "for indx in range(len(vehicle)):\n",
    "    print(vehicle[indx])"
   ]
  },
  {
   "cell_type": "markdown",
   "id": "ee63bedc",
   "metadata": {},
   "source": [
    "## Using a While Loop\n",
    "- You can loop through the tuple items by using a while loop.\n",
    "\n",
    "- Use the len() function to determine the length of the tuple, then start at 0 and loop your way through the tuple items by referring to their indexes.\n",
    "\n",
    "- Remember to increase the index by 1 after each iteration."
   ]
  },
  {
   "cell_type": "code",
   "execution_count": 43,
   "id": "e89e74be",
   "metadata": {},
   "outputs": [
    {
     "name": "stdout",
     "output_type": "stream",
     "text": [
      "car\n",
      "bus\n",
      "bike\n",
      "plane\n",
      "ship\n"
     ]
    }
   ],
   "source": [
    "vehicle = ('car', 'bus', 'bike', 'plane', 'ship')\n",
    "n = 0\n",
    "while n < len(vehicle):\n",
    "    print(vehicle[n])\n",
    "    n += 1\n",
    "    "
   ]
  },
  {
   "cell_type": "markdown",
   "id": "14e8c392",
   "metadata": {},
   "source": [
    "----"
   ]
  },
  {
   "cell_type": "markdown",
   "id": "7321d25c",
   "metadata": {},
   "source": [
    "##  Join Tuples\n",
    "To join two or more tuples you can use the + operator:"
   ]
  },
  {
   "cell_type": "code",
   "execution_count": 44,
   "id": "ba53fc15",
   "metadata": {},
   "outputs": [
    {
     "data": {
      "text/plain": [
       "(1, 2, 3, 4, 5, 6)"
      ]
     },
     "execution_count": 44,
     "metadata": {},
     "output_type": "execute_result"
    }
   ],
   "source": [
    "tpl1 = (1,2,3,4)\n",
    "tpl2 = (5,6)\n",
    "\n",
    "tpl3 = tpl1+tpl2\n",
    "tpl3"
   ]
  },
  {
   "cell_type": "markdown",
   "id": "baa04185",
   "metadata": {},
   "source": [
    "## Multiply Tuples\n",
    "If you want to multiply the content of a tuple a given number of times, you can use the * operator:"
   ]
  },
  {
   "cell_type": "code",
   "execution_count": 45,
   "id": "8466ee90",
   "metadata": {},
   "outputs": [
    {
     "data": {
      "text/plain": [
       "('apple', 'orange', 'berry', 'apple', 'orange', 'berry')"
      ]
     },
     "execution_count": 45,
     "metadata": {},
     "output_type": "execute_result"
    }
   ],
   "source": [
    "fruits = ('apple','orange','berry')\n",
    "new_tpl = fruits * 2\n",
    "new_tpl"
   ]
  },
  {
   "cell_type": "markdown",
   "id": "0d65c969",
   "metadata": {},
   "source": [
    "---"
   ]
  },
  {
   "cell_type": "markdown",
   "id": "aff3ffe9",
   "metadata": {},
   "source": [
    "## count()"
   ]
  },
  {
   "cell_type": "code",
   "execution_count": 47,
   "id": "f5ff7546",
   "metadata": {},
   "outputs": [
    {
     "data": {
      "text/plain": [
       "2"
      ]
     },
     "execution_count": 47,
     "metadata": {},
     "output_type": "execute_result"
    }
   ],
   "source": [
    "tpl = ('apple', 'orange', 'berry', 'apple',)\n",
    "tpl.count('apple')"
   ]
  },
  {
   "cell_type": "code",
   "execution_count": 51,
   "id": "3ee8c067",
   "metadata": {},
   "outputs": [
    {
     "data": {
      "text/plain": [
       "{1: 1, 2: 3, 3: 3, 4: 4, 6: 1, 8: 1, 54: 1, 5: 2}"
      ]
     },
     "execution_count": 51,
     "metadata": {},
     "output_type": "execute_result"
    }
   ],
   "source": [
    "tpl = (1,2,3,2,4,6,8,54,5,4,4,3,4,3,2,5)\n",
    "dict = {}\n",
    "for val in tpl:\n",
    "    if val not in dict:\n",
    "        dict[val] = 1\n",
    "    else:\n",
    "        dict[val] += 1\n",
    "dict"
   ]
  },
  {
   "cell_type": "code",
   "execution_count": null,
   "id": "7909cc39",
   "metadata": {},
   "outputs": [],
   "source": []
  }
 ],
 "metadata": {
  "kernelspec": {
   "display_name": "Python 3",
   "language": "python",
   "name": "python3"
  },
  "language_info": {
   "codemirror_mode": {
    "name": "ipython",
    "version": 3
   },
   "file_extension": ".py",
   "mimetype": "text/x-python",
   "name": "python",
   "nbconvert_exporter": "python",
   "pygments_lexer": "ipython3",
   "version": "3.11.9"
  }
 },
 "nbformat": 4,
 "nbformat_minor": 5
}
