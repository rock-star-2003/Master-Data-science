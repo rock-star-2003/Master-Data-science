{
 "cells": [
  {
   "cell_type": "markdown",
   "id": "2a733f20",
   "metadata": {},
   "source": [
    "# Data Preparation\n",
    "Before analyzing data, a Data Scientist must extract the data, and make it clean and valuable.\n",
    "\n",
    "## 1. Extract and Read Data With Pandas\n",
    "Before data can be analyzed, it must be imported/extracted.\n",
    "\n",
    "## 2. Data Cleaning\n",
    "Look at the imported data. As you can see, the data are \"dirty\" with wrongly or unregistered values:\n",
    "\n",
    "## 3. Remove Blank Rows\n",
    "\n",
    "## 4. Data Categories\n",
    "To analyze data, we also need to know the types of data we are dealing with.\n",
    "\n",
    "Data can be split into two main categories:\n",
    "\n",
    "Quantitative Data - Can be expressed as a number or can be quantified. Can be divided into two sub-categories:\n",
    "Discrete data: Numbers are counted as \"whole\", e.g. number of students in a class, number of goals in a soccer game\n",
    "Continuous data: Numbers can be of infinite precision. e.g. weight of a person, shoe size, temperature\n",
    "Qualitative Data - Cannot be expressed as a number and cannot be quantified. Can be divided into two sub-categories:\n",
    "Nominal data: Example: gender, hair color, ethnicity\n",
    "Ordinal data: Example: school grades (A, B, C), economic status (low, middle, high)\n",
    "By knowing the type of your data, you will be able to know what technique to use when analyzing them.\n",
    "\n",
    "## 5. Data Types\n",
    "We can use the info() function to list the data types within our data set: \n",
    "\n",
    "## 6. Analyze the Data\n",
    "When we have cleaned the data set, we can start analyzing the data.\n",
    "\n",
    "We can use the describe() function in Python to summarize data:\n",
    "\n",
    "- Count - Counts the number of observations\n",
    "- Mean - The average value\n",
    "- Std - Standard deviation (explained in the statistics chapter)\n",
    "- Min - The lowest value\n",
    "- 25%, 50% and 75% are percentiles (explained in the statistics chapter)\n",
    "- Max - The highest value"
   ]
  }
 ],
 "metadata": {
  "language_info": {
   "name": "python"
  }
 },
 "nbformat": 4,
 "nbformat_minor": 5
}
