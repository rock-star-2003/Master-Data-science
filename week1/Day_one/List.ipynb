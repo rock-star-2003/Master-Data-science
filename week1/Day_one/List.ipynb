{
 "cells": [
  {
   "cell_type": "markdown",
   "id": "86f930b7",
   "metadata": {},
   "source": [
    "List Methods\n",
    "Python has a set of built-in methods that you can use on lists.\n",
    "\n",
    "| Method     | Description                                                                 |\n",
    "|------------|------------------------------------------------------------------------------|\n",
    "| append()   | Adds an element at the end of the list                                       |\n",
    "| clear()    | Removes all the elements from the list                                       |\n",
    "| copy()     | Returns a copy of the list                                                   |\n",
    "| count()    | Returns the number of elements with the specified value                      |\n",
    "| extend()   | Add the elements of a list (or any iterable), to the end of the current list |\n",
    "| index()    | Returns the index of the first element with the specified value              |\n",
    "| insert()   | Adds an element at the specified position                                    |\n",
    "| pop()      | Removes the element at the specified position                                |\n",
    "| remove()   | Removes the item with the specified value                                    |\n",
    "| reverse()  | Reverses the order of the list                                               |\n",
    "| sort()     | Sorts the list                                                               |\n",
    "\n",
    "---"
   ]
  },
  {
   "cell_type": "markdown",
   "id": "da69aa36",
   "metadata": {},
   "source": [
    "# List\n",
    "- Lists are used to store multiple items in a single variable.\n",
    "\n",
    "- Lists are one of 4 built-in data types in Python used to store collections of data, the other 3 are Tuple, Set, and Dictionary, all with different qualities and usage.\n",
    "\n",
    "- Lists are created using square brackets:"
   ]
  },
  {
   "cell_type": "code",
   "execution_count": 2,
   "id": "cb07b5ce",
   "metadata": {},
   "outputs": [
    {
     "data": {
      "text/plain": [
       "['apple', 'banana', 'cherry']"
      ]
     },
     "execution_count": 2,
     "metadata": {},
     "output_type": "execute_result"
    }
   ],
   "source": [
    "mylist = [\"apple\", \"banana\", \"cherry\"]\n",
    "mylist"
   ]
  },
  {
   "cell_type": "markdown",
   "id": "a4ca0939",
   "metadata": {},
   "source": [
    "### List Length\n",
    "- To determine how many items a list has, use the len() function:\n"
   ]
  },
  {
   "cell_type": "code",
   "execution_count": 3,
   "id": "3a5a8950",
   "metadata": {},
   "outputs": [
    {
     "data": {
      "text/plain": [
       "6"
      ]
     },
     "execution_count": 3,
     "metadata": {},
     "output_type": "execute_result"
    }
   ],
   "source": [
    "my_list = [1,2,3,4,5,6]\n",
    "len(my_list)"
   ]
  },
  {
   "cell_type": "markdown",
   "id": "32019be6",
   "metadata": {},
   "source": [
    "### List Items - Data Types\n",
    "- List items can be of any data type:"
   ]
  },
  {
   "cell_type": "code",
   "execution_count": 4,
   "id": "a0e1419e",
   "metadata": {},
   "outputs": [
    {
     "data": {
      "text/plain": [
       "(['mango', 'apple', 'orange'], [1, 2, 3, 4, 5, 6], [True, False])"
      ]
     },
     "execution_count": 4,
     "metadata": {},
     "output_type": "execute_result"
    }
   ],
   "source": [
    "list_object = ['mango','apple','orange']\n",
    "list_numbers = [1,2,3,4,5,6]\n",
    "list_boolean = [True,False]\n",
    "list_object,list_numbers,list_boolean"
   ]
  },
  {
   "cell_type": "markdown",
   "id": "59c8beef",
   "metadata": {},
   "source": [
    "- A list can contain different data types:"
   ]
  },
  {
   "cell_type": "code",
   "execution_count": 5,
   "id": "0c28e170",
   "metadata": {},
   "outputs": [
    {
     "data": {
      "text/plain": [
       "[1, 'mango', False, 0.2]"
      ]
     },
     "execution_count": 5,
     "metadata": {},
     "output_type": "execute_result"
    }
   ],
   "source": [
    "list_all_dataTypes = [1,\"mango\",False,0.2]\n",
    "list_all_dataTypes"
   ]
  },
  {
   "cell_type": "markdown",
   "id": "554599b5",
   "metadata": {},
   "source": [
    "### type()\n",
    "- From Python's perspective, lists are defined as objects with the data type 'list':"
   ]
  },
  {
   "cell_type": "code",
   "execution_count": 6,
   "id": "9f02c430",
   "metadata": {},
   "outputs": [
    {
     "data": {
      "text/plain": [
       "list"
      ]
     },
     "execution_count": 6,
     "metadata": {},
     "output_type": "execute_result"
    }
   ],
   "source": [
    "my_number_list = [1,2,3,4,5]\n",
    "type(my_number_list)"
   ]
  },
  {
   "cell_type": "markdown",
   "id": "7a8ae6f2",
   "metadata": {},
   "source": [
    "### The list() Constructor\n",
    "- It is also possible to use the list() constructor when creating a new list.\n",
    "\n"
   ]
  },
  {
   "cell_type": "code",
   "execution_count": 7,
   "id": "c5b6e49e",
   "metadata": {},
   "outputs": [
    {
     "data": {
      "text/plain": [
       "['green', 'blue', 'orange']"
      ]
     },
     "execution_count": 7,
     "metadata": {},
     "output_type": "execute_result"
    }
   ],
   "source": [
    "the_list = list(('green','blue','orange'))\n",
    "the_list"
   ]
  },
  {
   "cell_type": "markdown",
   "id": "d6de3c75",
   "metadata": {},
   "source": []
  },
  {
   "cell_type": "markdown",
   "id": "7cd9f5ec",
   "metadata": {},
   "source": [
    "# Python - Access List Items\n",
    "\n",
    "- List items are indexed and you can access them by referring to the index number:"
   ]
  },
  {
   "cell_type": "code",
   "execution_count": 8,
   "id": "96f10ba8",
   "metadata": {},
   "outputs": [
    {
     "data": {
      "text/plain": [
       "'three'"
      ]
     },
     "execution_count": 8,
     "metadata": {},
     "output_type": "execute_result"
    }
   ],
   "source": [
    "the_list = ['one','two','three','four']\n",
    "the_list[2]"
   ]
  },
  {
   "cell_type": "markdown",
   "id": "90eb590a",
   "metadata": {},
   "source": [
    "## Negative Indexing\n",
    "- Negative indexing means start from the end\n",
    "-1 refers to the last item, -2 refers to the second last item etc."
   ]
  },
  {
   "cell_type": "code",
   "execution_count": 9,
   "id": "05d9468a",
   "metadata": {},
   "outputs": [
    {
     "data": {
      "text/plain": [
       "'four'"
      ]
     },
     "execution_count": 9,
     "metadata": {},
     "output_type": "execute_result"
    }
   ],
   "source": [
    "the_list[-1]"
   ]
  },
  {
   "cell_type": "markdown",
   "id": "1729dec9",
   "metadata": {},
   "source": [
    "## Range of Indexes\n",
    "- You can specify a range of indexes by specifying where to start and where to end the range.\n",
    "\n",
    "- When specifying a range, the return value will be a new list with the specified items."
   ]
  },
  {
   "cell_type": "code",
   "execution_count": 10,
   "id": "8c531032",
   "metadata": {},
   "outputs": [
    {
     "data": {
      "text/plain": [
       "['orange', 'kiwi']"
      ]
     },
     "execution_count": 10,
     "metadata": {},
     "output_type": "execute_result"
    }
   ],
   "source": [
    "thislist = [\"apple\", \"banana\", \"cherry\", \"orange\", \"kiwi\", \"melon\", \"mango\"]\n",
    "thislist[3:5]"
   ]
  },
  {
   "cell_type": "markdown",
   "id": "a36c2272",
   "metadata": {},
   "source": [
    "#### Example\n",
    "- This example returns the items from the beginning to, but NOT including, \"kiwi\":"
   ]
  },
  {
   "cell_type": "code",
   "execution_count": 11,
   "id": "f8fb4553",
   "metadata": {},
   "outputs": [
    {
     "name": "stdout",
     "output_type": "stream",
     "text": [
      "['apple', 'banana', 'cherry', 'orange']\n"
     ]
    }
   ],
   "source": [
    "thislist = [\"apple\", \"banana\", \"cherry\", \"orange\", \"kiwi\", \"melon\", \"mango\"]\n",
    "print(thislist[:4])"
   ]
  },
  {
   "cell_type": "markdown",
   "id": "83c40c79",
   "metadata": {},
   "source": [
    "- By leaving out the end value, the range will go on to the end of the list:\n",
    "#### Example\n",
    "- This example returns the items from \"cherry\" to the end:"
   ]
  },
  {
   "cell_type": "code",
   "execution_count": 12,
   "id": "d2347992",
   "metadata": {},
   "outputs": [
    {
     "name": "stdout",
     "output_type": "stream",
     "text": [
      "['cherry', 'orange', 'kiwi', 'melon', 'mango']\n"
     ]
    }
   ],
   "source": [
    "thislist = [\"apple\", \"banana\", \"cherry\", \"orange\", \"kiwi\", \"melon\", \"mango\"]\n",
    "print(thislist[2:])"
   ]
  },
  {
   "cell_type": "markdown",
   "id": "aa06b7b4",
   "metadata": {},
   "source": [
    "## Range of Negative Indexes\n",
    "- Specify negative indexes if you want to start the search from the end of the list:"
   ]
  },
  {
   "cell_type": "markdown",
   "id": "0a04eef6",
   "metadata": {},
   "source": [
    "#### Example\n",
    "- This example returns the items from \"orange\" (-4) to, but NOT including \"mango\" (-1):"
   ]
  },
  {
   "cell_type": "code",
   "execution_count": 13,
   "id": "3f5d78f8",
   "metadata": {},
   "outputs": [
    {
     "name": "stdout",
     "output_type": "stream",
     "text": [
      "['orange', 'kiwi', 'melon']\n"
     ]
    }
   ],
   "source": [
    "thislist = [\"apple\", \"banana\", \"cherry\", \"orange\", \"kiwi\", \"melon\", \"mango\"]\n",
    "print(thislist[-4:-1])"
   ]
  },
  {
   "cell_type": "markdown",
   "id": "8457cd09",
   "metadata": {},
   "source": [
    "## Check if Item Exists\n",
    "- To determine if a specified item is present in a list use the in keyword:"
   ]
  },
  {
   "cell_type": "markdown",
   "id": "58a06dd3",
   "metadata": {},
   "source": [
    "#### Example\n",
    "- Check if \"apple\" is present in the list:"
   ]
  },
  {
   "cell_type": "code",
   "execution_count": 14,
   "id": "070026ab",
   "metadata": {},
   "outputs": [
    {
     "name": "stdout",
     "output_type": "stream",
     "text": [
      "Fount\n"
     ]
    }
   ],
   "source": [
    "list_fruits = ['apple','orange','mango','pineapple']\n",
    "if 'apple' in list_fruits:\n",
    "    print('Fount')"
   ]
  },
  {
   "cell_type": "markdown",
   "id": "afd4a8ad",
   "metadata": {},
   "source": [
    "# Python - Change List Items"
   ]
  },
  {
   "cell_type": "markdown",
   "id": "db4fd348",
   "metadata": {},
   "source": [
    "## Change Item Value\n",
    "- To change the value of a specific item, refer to the index number:"
   ]
  },
  {
   "cell_type": "markdown",
   "id": "2e409916",
   "metadata": {},
   "source": [
    "### Example\n",
    "- Change the second item:"
   ]
  },
  {
   "cell_type": "code",
   "execution_count": 15,
   "id": "7127d653",
   "metadata": {},
   "outputs": [
    {
     "data": {
      "text/plain": [
       "['apple', 'banana changed', 'berry', 'orange']"
      ]
     },
     "execution_count": 15,
     "metadata": {},
     "output_type": "execute_result"
    }
   ],
   "source": [
    "list_change = ['apple','banana','berry','orange']\n",
    "list_change[1] = 'banana changed'\n",
    "list_change"
   ]
  },
  {
   "cell_type": "markdown",
   "id": "b879a59a",
   "metadata": {},
   "source": [
    "## Change a Range of Item Values\n",
    "- To change the value of items within a specific range, define a list with the new values, and refer to the range of index numbers where you want to insert the new values:\n",
    "    "
   ]
  },
  {
   "cell_type": "code",
   "execution_count": 16,
   "id": "0cb830f9",
   "metadata": {},
   "outputs": [
    {
     "data": {
      "text/plain": [
       "['apple', 'banana', 'changed 1 ', 'changed 2', 'kiwi', 'mango']"
      ]
     },
     "execution_count": 16,
     "metadata": {},
     "output_type": "execute_result"
    }
   ],
   "source": [
    "list_change = [\"apple\", \"banana\", \"cherry\", \"orange\", \"kiwi\", \"mango\"]\n",
    "list_change[2:4] = ['changed 1 ','changed 2']\n",
    "list_change"
   ]
  },
  {
   "cell_type": "markdown",
   "id": "2af2220d",
   "metadata": {},
   "source": [
    "- If you insert more items than you replace, the new items will be inserted where you specified, and the remaining items will move accordingly:"
   ]
  },
  {
   "cell_type": "code",
   "execution_count": 17,
   "id": "76f9d458",
   "metadata": {},
   "outputs": [
    {
     "name": "stdout",
     "output_type": "stream",
     "text": [
      "['apple', 'blackcurrant', 'watermelon', 'cherry']\n"
     ]
    }
   ],
   "source": [
    "thislist = [\"apple\", \"banana\", \"cherry\"]\n",
    "thislist[1:2] = [\"blackcurrant\", \"watermelon\"]\n",
    "print(thislist)"
   ]
  },
  {
   "cell_type": "markdown",
   "id": "47c97b6f",
   "metadata": {},
   "source": [
    "- If you insert less items than you replace, the new items will be inserted where you specified, and the remaining items will move accordingly:"
   ]
  },
  {
   "cell_type": "code",
   "execution_count": 18,
   "id": "4fd86594",
   "metadata": {},
   "outputs": [
    {
     "name": "stdout",
     "output_type": "stream",
     "text": [
      "['apple', 'watermelon']\n"
     ]
    }
   ],
   "source": [
    "thislist = [\"apple\", \"banana\", \"cherry\"]\n",
    "thislist[1:3] = [\"watermelon\"]\n",
    "print(thislist)"
   ]
  },
  {
   "cell_type": "markdown",
   "id": "3ab87cb1",
   "metadata": {},
   "source": [
    "## Insert Items\n",
    "- To insert a new list item, without replacing any of the existing values, we can use the insert() method."
   ]
  },
  {
   "cell_type": "code",
   "execution_count": 19,
   "id": "f32a48d9",
   "metadata": {},
   "outputs": [
    {
     "data": {
      "text/plain": [
       "['apple', 'mellon', 'banana', 'cherry']"
      ]
     },
     "execution_count": 19,
     "metadata": {},
     "output_type": "execute_result"
    }
   ],
   "source": [
    "the_list = [\"apple\", \"banana\", \"cherry\"]\n",
    "the_list.insert(1,'mellon')\n",
    "the_list"
   ]
  },
  {
   "cell_type": "markdown",
   "id": "15176d65",
   "metadata": {},
   "source": [
    "# Add List Items"
   ]
  },
  {
   "cell_type": "markdown",
   "id": "25dfb96c",
   "metadata": {},
   "source": [
    "## Append Items\n",
    "- To add an item to the end of the list, use the append() method:"
   ]
  },
  {
   "cell_type": "code",
   "execution_count": 20,
   "id": "44627ae6",
   "metadata": {},
   "outputs": [
    {
     "data": {
      "text/plain": [
       "['mango', 'apple', 'sugercane']"
      ]
     },
     "execution_count": 20,
     "metadata": {},
     "output_type": "execute_result"
    }
   ],
   "source": [
    "item_list = ['mango','apple']\n",
    "item_list.append('sugercane')\n",
    "item_list"
   ]
  },
  {
   "cell_type": "markdown",
   "id": "09380cea",
   "metadata": {},
   "source": [
    "## Insert Items\n",
    "- To insert a list item at a specified index, use the insert() method.\n",
    "\n",
    "- The insert() method inserts an item at the specified index:"
   ]
  },
  {
   "cell_type": "code",
   "execution_count": 21,
   "id": "0c0e5fd5",
   "metadata": {},
   "outputs": [
    {
     "data": {
      "text/plain": [
       "['item1', 'inserted item', 'item2', 'item3']"
      ]
     },
     "execution_count": 21,
     "metadata": {},
     "output_type": "execute_result"
    }
   ],
   "source": [
    "list_item = ['item1','item2','item3']\n",
    "list_item.insert(1,'inserted item')\n",
    "list_item"
   ]
  },
  {
   "cell_type": "markdown",
   "id": "3fc25485",
   "metadata": {},
   "source": [
    "## Extend List\n",
    "- To append elements from another list to the current list, use the extend() method."
   ]
  },
  {
   "cell_type": "code",
   "execution_count": 22,
   "id": "ba21cfb7",
   "metadata": {},
   "outputs": [
    {
     "data": {
      "text/plain": [
       "[1, 2, 3, 4, 5, 6, 7, 8, 9, 10]"
      ]
     },
     "execution_count": 22,
     "metadata": {},
     "output_type": "execute_result"
    }
   ],
   "source": [
    "list_1 = [1,2,3,4,5]\n",
    "list_2 = [6,7,8,9,10]\n",
    "list_1.extend(list_2)\n",
    "list_1"
   ]
  },
  {
   "cell_type": "markdown",
   "id": "293b1dac",
   "metadata": {},
   "source": [
    "### Add Any Iterable\n",
    "- The extend() method does not have to append lists, you can add any iterable object (tuples, sets, dictionaries etc.)."
   ]
  },
  {
   "cell_type": "code",
   "execution_count": 23,
   "id": "14f92c16",
   "metadata": {},
   "outputs": [
    {
     "data": {
      "text/plain": [
       "['water', 'air', 'soil', 'space', 'gravity']"
      ]
     },
     "execution_count": 23,
     "metadata": {},
     "output_type": "execute_result"
    }
   ],
   "source": [
    "list_main = ['water','air','soil']\n",
    "tuple_values = ('space','gravity')\n",
    "list_main.extend(tuple_values)\n",
    "list_main"
   ]
  },
  {
   "cell_type": "markdown",
   "id": "9372ff54",
   "metadata": {},
   "source": [
    "# Remove List Items"
   ]
  },
  {
   "cell_type": "markdown",
   "id": "d5c04895",
   "metadata": {},
   "source": [
    "## Remove Specified Item\n",
    "- The remove() method removes the specified item."
   ]
  },
  {
   "cell_type": "code",
   "execution_count": 24,
   "id": "91e49e35",
   "metadata": {},
   "outputs": [
    {
     "data": {
      "text/plain": [
       "['air', 'soil']"
      ]
     },
     "execution_count": 24,
     "metadata": {},
     "output_type": "execute_result"
    }
   ],
   "source": [
    "list_main = ['water','air','soil']\n",
    "list_main.remove('water')\n",
    "list_main"
   ]
  },
  {
   "cell_type": "markdown",
   "id": "f49c03f7",
   "metadata": {},
   "source": [
    "- If there are more than one item with the specified value, the remove() method removes the first occurrence:\n",
    "#### Example\n",
    "- Remove the first occurrence of \"banana\":"
   ]
  },
  {
   "cell_type": "code",
   "execution_count": 25,
   "id": "bba38ac0",
   "metadata": {},
   "outputs": [
    {
     "data": {
      "text/plain": [
       "['apple', 'cherry', 'banana', 'kiwi']"
      ]
     },
     "execution_count": 25,
     "metadata": {},
     "output_type": "execute_result"
    }
   ],
   "source": [
    "thislist = [\"apple\", \"banana\", \"cherry\", \"banana\", \"kiwi\"]\n",
    "thislist.remove('banana')\n",
    "thislist"
   ]
  },
  {
   "cell_type": "markdown",
   "id": "a36cf70b",
   "metadata": {},
   "source": [
    "## Remove Specified Index\n",
    "- The pop() method removes the specified index."
   ]
  },
  {
   "cell_type": "code",
   "execution_count": 26,
   "id": "c1ac83f6",
   "metadata": {},
   "outputs": [
    {
     "data": {
      "text/plain": [
       "['apple', 'banana', 'banana', 'kiwi']"
      ]
     },
     "execution_count": 26,
     "metadata": {},
     "output_type": "execute_result"
    }
   ],
   "source": [
    "thislist = [\"apple\", \"banana\", \"cherry\", \"banana\", \"kiwi\"]\n",
    "thislist.pop(2)\n",
    "thislist"
   ]
  },
  {
   "cell_type": "markdown",
   "id": "d8854e2b",
   "metadata": {},
   "source": [
    "- If you do not specify the index, the pop() method removes the last item."
   ]
  },
  {
   "cell_type": "code",
   "execution_count": 27,
   "id": "0c3b24b7",
   "metadata": {},
   "outputs": [
    {
     "data": {
      "text/plain": [
       "['apple', 'banana', 'cherry', 'banana']"
      ]
     },
     "execution_count": 27,
     "metadata": {},
     "output_type": "execute_result"
    }
   ],
   "source": [
    "thislist = [\"apple\", \"banana\", \"cherry\", \"banana\", \"kiwi\"]\n",
    "thislist.pop()\n",
    "thislist"
   ]
  },
  {
   "cell_type": "markdown",
   "id": "bad89198",
   "metadata": {},
   "source": [
    "- The del keyword also removes the specified index:"
   ]
  },
  {
   "cell_type": "code",
   "execution_count": 28,
   "id": "b92f768a",
   "metadata": {},
   "outputs": [
    {
     "data": {
      "text/plain": [
       "['apple', 'banana', 'banana']"
      ]
     },
     "execution_count": 28,
     "metadata": {},
     "output_type": "execute_result"
    }
   ],
   "source": [
    "del thislist[2]\n",
    "thislist"
   ]
  },
  {
   "cell_type": "markdown",
   "id": "2e55bbdc",
   "metadata": {},
   "source": [
    "- The del keyword can also delete the list completely.\n",
    "\n"
   ]
  },
  {
   "cell_type": "code",
   "execution_count": 29,
   "id": "850a439e",
   "metadata": {},
   "outputs": [],
   "source": [
    "del thislist"
   ]
  },
  {
   "cell_type": "markdown",
   "id": "7e70a0fa",
   "metadata": {},
   "source": [
    "## Clear the List\n",
    "- The clear() method empties the list.\n",
    "\n",
    "- The list still remains, but it has no content."
   ]
  },
  {
   "cell_type": "code",
   "execution_count": 30,
   "id": "cf2b68e0",
   "metadata": {},
   "outputs": [
    {
     "data": {
      "text/plain": [
       "[]"
      ]
     },
     "execution_count": 30,
     "metadata": {},
     "output_type": "execute_result"
    }
   ],
   "source": [
    "thislist = [\"apple\", \"banana\", \"cherry\", \"banana\", \"kiwi\"]\n",
    "thislist.clear()\n",
    "thislist"
   ]
  },
  {
   "cell_type": "markdown",
   "id": "407c2b44",
   "metadata": {},
   "source": [
    "# Loop Lists"
   ]
  },
  {
   "cell_type": "markdown",
   "id": "c32d05e4",
   "metadata": {},
   "source": [
    "## Loop Through a List\n",
    "- You can loop through the list items by using a for loop:\n",
    "learn more about For loop ==> [for loop](for_loop.ipynb)"
   ]
  },
  {
   "cell_type": "markdown",
   "id": "de8d5090",
   "metadata": {},
   "source": [
    "#### Example\n",
    "- Print all items in the list, one by one:"
   ]
  },
  {
   "cell_type": "code",
   "execution_count": 31,
   "id": "2d806f10",
   "metadata": {},
   "outputs": [
    {
     "name": "stdout",
     "output_type": "stream",
     "text": [
      "1\n",
      "2\n",
      "3\n",
      "4\n",
      "5\n"
     ]
    }
   ],
   "source": [
    "num_list = [1,2,3,4,5]\n",
    "for i in num_list:\n",
    "    print(i)"
   ]
  },
  {
   "cell_type": "markdown",
   "id": "dff14676",
   "metadata": {},
   "source": [
    "## Loop Through the Index Numbers\n",
    "- You can also loop through the list items by referring to their index number.\n",
    "\n",
    "- Use the range() and len() functions to create a suitable iterable.\n",
    "\n",
    "#### Example\n",
    "- Print all items by referring to their index number:"
   ]
  },
  {
   "cell_type": "code",
   "execution_count": 32,
   "id": "c540b980",
   "metadata": {},
   "outputs": [
    {
     "name": "stdout",
     "output_type": "stream",
     "text": [
      "0\n",
      "1\n",
      "2\n",
      "3\n",
      "4\n"
     ]
    }
   ],
   "source": [
    "for i in range(len(num_list)):\n",
    "    print(i)"
   ]
  },
  {
   "cell_type": "markdown",
   "id": "86820183",
   "metadata": {},
   "source": [
    "## Using a While Loop\n",
    "- You can loop through the list items by using a while loop.\n",
    "\n",
    "- Use the len() function to determine the length of the list, then start at 0 and loop your way through the list items by referring to their indexes.\n",
    "\n",
    "- Remember to increase the index by 1 after each iteration.\n",
    "\n",
    "learn more about while loop ==> [while loop](while_loop.ipynb)"
   ]
  },
  {
   "cell_type": "code",
   "execution_count": 33,
   "id": "5c240187",
   "metadata": {},
   "outputs": [
    {
     "name": "stdout",
     "output_type": "stream",
     "text": [
      "1\n",
      "2\n",
      "3\n",
      "4\n",
      "5\n"
     ]
    }
   ],
   "source": [
    "count = 0\n",
    "while count < len(num_list):\n",
    "    print (num_list[count])\n",
    "    count += 1"
   ]
  },
  {
   "cell_type": "markdown",
   "id": "50420b42",
   "metadata": {},
   "source": [
    "## Looping Using List Comprehension\n",
    "- List Comprehension offers the shortest syntax for looping through lists:\n",
    "### List Comprehension\n",
    "- List comprehension offers a shorter syntax when you want to create a new list based on the values of an existing list.\n",
    "\n",
    "#### Example:\n",
    "\n",
    "- Based on a list of fruits, you want a new list, containing only the fruits with the letter \"a\" in the name.\n",
    "\n",
    "- Without list comprehension you will have to write a for statement with a conditional test inside:\n",
    "\n",
    "##### The Syntax\n",
    "- newlist = [expression for item in iterable if condition == True]\n",
    "- The return value is a new list, leaving the old list unchanged."
   ]
  },
  {
   "cell_type": "code",
   "execution_count": 34,
   "id": "a1a3c66f",
   "metadata": {},
   "outputs": [
    {
     "data": {
      "text/plain": [
       "[2, 4, 6]"
      ]
     },
     "execution_count": 34,
     "metadata": {},
     "output_type": "execute_result"
    }
   ],
   "source": [
    "# For loop\n",
    "\n",
    "list_num = [1,2,3,4,5,6,7]\n",
    "new_list = []\n",
    "for i in list_num:\n",
    "    if i %2 == 0:\n",
    "        new_list.append(i)\n",
    "new_list"
   ]
  },
  {
   "cell_type": "code",
   "execution_count": 35,
   "id": "c2cc7957",
   "metadata": {},
   "outputs": [
    {
     "data": {
      "text/plain": [
       "[2, 4, 6]"
      ]
     },
     "execution_count": 35,
     "metadata": {},
     "output_type": "execute_result"
    }
   ],
   "source": [
    "# List comprehension\n",
    "\n",
    "list_num = [1,2,3,4,5,6,7]\n",
    "new_list = [i for i in list_num if i % 2 == 0]\n",
    "new_list\n"
   ]
  },
  {
   "cell_type": "markdown",
   "id": "0fbfec40",
   "metadata": {},
   "source": [
    "### Condition\n",
    "- The condition is like a filter that only accepts the items that evaluate to True.\n",
    "\n",
    "#### Example\n",
    "- Only accept items that are not \"apple\":"
   ]
  },
  {
   "cell_type": "code",
   "execution_count": 36,
   "id": "5b5c5a20",
   "metadata": {},
   "outputs": [
    {
     "data": {
      "text/plain": [
       "['orange', 'banana', 'pineapple', 'orange', 'banana']"
      ]
     },
     "execution_count": 36,
     "metadata": {},
     "output_type": "execute_result"
    }
   ],
   "source": [
    "list_fruit = ['apple','orange','banana','pineapple','orange','banana']\n",
    "new_list =  [fruit for fruit in list_fruit if fruit != 'apple']\n",
    "new_list"
   ]
  },
  {
   "cell_type": "markdown",
   "id": "50195f71",
   "metadata": {},
   "source": [
    "- The condition if x != \"apple\"  will return True for all elements other than \"apple\", making the new list contain all fruits except \"apple\". The condition is optional and can be omitted:"
   ]
  },
  {
   "cell_type": "markdown",
   "id": "8f763af5",
   "metadata": {},
   "source": [
    "#### Example\n",
    "With no if statement:"
   ]
  },
  {
   "cell_type": "code",
   "execution_count": 37,
   "id": "9fe9e706",
   "metadata": {},
   "outputs": [
    {
     "data": {
      "text/plain": [
       "[0, 1, 2, 3, 4, 5, 6, 7, 8, 9]"
      ]
     },
     "execution_count": 37,
     "metadata": {},
     "output_type": "execute_result"
    }
   ],
   "source": [
    "[num for num in range(10)]"
   ]
  },
  {
   "cell_type": "code",
   "execution_count": 38,
   "id": "a49b14e3",
   "metadata": {},
   "outputs": [
    {
     "data": {
      "text/plain": [
       "['apple', 'orange', 'banana', 'pineapple', 'orange', 'banana']"
      ]
     },
     "execution_count": 38,
     "metadata": {},
     "output_type": "execute_result"
    }
   ],
   "source": [
    "[fruit for fruit in list_fruit]"
   ]
  },
  {
   "cell_type": "markdown",
   "id": "8e412e0b",
   "metadata": {},
   "source": [
    "### Expression\n",
    "- The expression is the current item in the iteration, but it is also the outcome, which you can manipulate before it ends up like a list item in the new list:\n",
    "#### Example\n",
    "- Set the values in the new list to upper case:\n",
    "\n"
   ]
  },
  {
   "cell_type": "code",
   "execution_count": 39,
   "id": "4910419f",
   "metadata": {},
   "outputs": [
    {
     "data": {
      "text/plain": [
       "['APPLE', 'ORANGE', 'BANANA', 'PINEAPPLE', 'ORANGE', 'BANANA']"
      ]
     },
     "execution_count": 39,
     "metadata": {},
     "output_type": "execute_result"
    }
   ],
   "source": [
    "[i.upper() for i  in list_fruit]"
   ]
  },
  {
   "cell_type": "markdown",
   "id": "7298cdaa",
   "metadata": {},
   "source": [
    "#### Example\n",
    "- Return \"change\" instead of \"banana\":\n"
   ]
  },
  {
   "cell_type": "code",
   "execution_count": 40,
   "id": "8096a056",
   "metadata": {},
   "outputs": [
    {
     "data": {
      "text/plain": [
       "['apple', 'orange', 'change', 'pineapple', 'orange', 'change']"
      ]
     },
     "execution_count": 40,
     "metadata": {},
     "output_type": "execute_result"
    }
   ],
   "source": [
    "[fruits if fruits != 'banana' else 'change' for fruits in list_fruit]"
   ]
  },
  {
   "cell_type": "markdown",
   "id": "11d0c2ab",
   "metadata": {},
   "source": [
    "# Sort Lists"
   ]
  },
  {
   "cell_type": "markdown",
   "id": "c40ec696",
   "metadata": {},
   "source": [
    "## Sort List Alphanumerically\n",
    "- List objects have a sort() method that will sort the list alphanumerically, ascending, by default:"
   ]
  },
  {
   "cell_type": "code",
   "execution_count": 41,
   "id": "ce3d87ff",
   "metadata": {},
   "outputs": [
    {
     "data": {
      "text/plain": [
       "['achu', 'aishu', 'avani', 'meenu', 'rajan', 'sulaja']"
      ]
     },
     "execution_count": 41,
     "metadata": {},
     "output_type": "execute_result"
    }
   ],
   "source": [
    "student_list = ['aishu','meenu','achu','avani','sulaja','rajan']\n",
    "student_list.sort()\n",
    "student_list"
   ]
  },
  {
   "cell_type": "markdown",
   "id": "c80a5166",
   "metadata": {},
   "source": [
    "#### Example\n",
    "Sort the list numerically:"
   ]
  },
  {
   "cell_type": "code",
   "execution_count": 42,
   "id": "4ca9a7a4",
   "metadata": {},
   "outputs": [
    {
     "data": {
      "text/plain": [
       "[1, 2, 5, 21, 28, 29, 30, 45]"
      ]
     },
     "execution_count": 42,
     "metadata": {},
     "output_type": "execute_result"
    }
   ],
   "source": [
    "student_list_num = [1,5,2,45,30,28,29,21]\n",
    "student_list_num.sort()\n",
    "student_list_num"
   ]
  },
  {
   "cell_type": "markdown",
   "id": "2f257669",
   "metadata": {},
   "source": [
    "## Sort Descending\n",
    "To sort descending, use the keyword argument reverse = True:"
   ]
  },
  {
   "cell_type": "code",
   "execution_count": 43,
   "id": "e6d048f1",
   "metadata": {},
   "outputs": [
    {
     "data": {
      "text/plain": [
       "[45, 30, 29, 28, 21, 5, 2, 1]"
      ]
     },
     "execution_count": 43,
     "metadata": {},
     "output_type": "execute_result"
    }
   ],
   "source": [
    "student_list_num.sort(reverse=True)\n",
    "student_list_num"
   ]
  },
  {
   "cell_type": "markdown",
   "id": "1d9f9441",
   "metadata": {},
   "source": [
    "## Customize Sort Function\n",
    "- You can also customize your own function by using the keyword argument key = function.\n",
    "\n",
    "- The function will return a number that will be used to sort the list (the lowest number first):"
   ]
  },
  {
   "cell_type": "markdown",
   "id": "6f876154",
   "metadata": {},
   "source": [
    "#### Example\n",
    "Sort the list based on how close the number is to 50:\n",
    "\n",
    "abs // is absalute distance . it returns the value that has min distance with the number , "
   ]
  },
  {
   "cell_type": "code",
   "execution_count": 44,
   "id": "c6545b24",
   "metadata": {},
   "outputs": [
    {
     "data": {
      "text/plain": [
       "[50, 34, 70, 100, 200, 250]"
      ]
     },
     "execution_count": 44,
     "metadata": {},
     "output_type": "execute_result"
    }
   ],
   "source": [
    "def My_fun(nums):\n",
    "    return abs(nums - 50)\n",
    "\n",
    "numbers = [100,200,50,34,250,70]\n",
    "numbers.sort(key=My_fun)\n",
    "numbers"
   ]
  },
  {
   "cell_type": "markdown",
   "id": "5580bbd0",
   "metadata": {},
   "source": [
    "## Case Insensitive Sort\n",
    "- By default the sort() method is case sensitive, resulting in all capital letters being sorted before lower case letters:\n",
    "- Case sensitive sorting can give an unexpected result:\n",
    "- Luckily we can use built-in functions as key functions when sorting a list.\n",
    "\n",
    "- So if you want a case-insensitive sort function, use <mark> str.lower </mark> as a key function:"
   ]
  },
  {
   "cell_type": "code",
   "execution_count": 45,
   "id": "e578f51f",
   "metadata": {},
   "outputs": [
    {
     "data": {
      "text/plain": [
       "['Andru', 'deshamoolam', 'lootaPPi', 'Machambi', 'sura']"
      ]
     },
     "execution_count": 45,
     "metadata": {},
     "output_type": "execute_result"
    }
   ],
   "source": [
    "list_names = ['sura','deshamoolam','Andru','Machambi','lootaPPi']\n",
    "list_names.sort(key=str.lower)\n",
    "list_names"
   ]
  },
  {
   "cell_type": "markdown",
   "id": "474c8fa8",
   "metadata": {},
   "source": [
    "# Copy Lists\n",
    "You cannot copy a list simply by typing list2 = list1, because: list2 will only be a reference to list1, and changes made in list1 will automatically also be made in list2."
   ]
  },
  {
   "cell_type": "markdown",
   "id": "76ad0d17",
   "metadata": {},
   "source": [
    "## Use the <mark> copy()</mark> method\n",
    "- You can use the built-in List method copy() to copy a list."
   ]
  },
  {
   "cell_type": "code",
   "execution_count": 49,
   "id": "fc1640e6",
   "metadata": {},
   "outputs": [
    {
     "data": {
      "text/plain": [
       "[1, 2, 3, 4, 5, 6, 7]"
      ]
     },
     "execution_count": 49,
     "metadata": {},
     "output_type": "execute_result"
    }
   ],
   "source": [
    "main_list = [1,2,3,4,5,6,7]\n",
    "coppy_list = main_list.copy()\n",
    "coppy_list"
   ]
  },
  {
   "cell_type": "markdown",
   "id": "d2b13ab2",
   "metadata": {},
   "source": [
    "## Use the list() method\n",
    "- Another way to make a copy is to use the built-in method list()."
   ]
  },
  {
   "cell_type": "code",
   "execution_count": 47,
   "id": "5c8d8362",
   "metadata": {},
   "outputs": [
    {
     "data": {
      "text/plain": [
       "[1, 2, 3, 4, 5, 6, 7]"
      ]
     },
     "execution_count": 47,
     "metadata": {},
     "output_type": "execute_result"
    }
   ],
   "source": [
    "coppy_list = list(main_list)\n",
    "coppy_list"
   ]
  },
  {
   "cell_type": "markdown",
   "id": "85e3de61",
   "metadata": {},
   "source": [
    "#### List vs copy\n",
    "- copy and list , both are used to initilise a copy of a exisiting list, but the copy and list have different advantages, the copy make a replication of the orginal list , list() is do the same but it make a new list with the value in it so we can convert ant type of data into list that is we can convert to list even the tuple, distnory, set ..\n"
   ]
  },
  {
   "cell_type": "markdown",
   "id": "7467180b",
   "metadata": {},
   "source": [
    "## Use the slice Operator\n",
    "You can also make a copy of a list by using the : (slice) operator."
   ]
  },
  {
   "cell_type": "code",
   "execution_count": 48,
   "id": "f9c7ff33",
   "metadata": {},
   "outputs": [
    {
     "data": {
      "text/plain": [
       "[1, 2, 3, 4, 5, 6, 7]"
      ]
     },
     "execution_count": 48,
     "metadata": {},
     "output_type": "execute_result"
    }
   ],
   "source": [
    "new_list = main_list[:]\n",
    "new_list"
   ]
  },
  {
   "cell_type": "markdown",
   "id": "d6591936",
   "metadata": {},
   "source": [
    "# Join Lists\n",
    "## Join Two Lists\n",
    "- There are several ways to join, or concatenate, two or more lists in Python.\n",
    "\n",
    "- One of the easiest ways are by using the + operator."
   ]
  },
  {
   "cell_type": "code",
   "execution_count": 51,
   "id": "0bf8ca7b",
   "metadata": {},
   "outputs": [
    {
     "data": {
      "text/plain": [
       "[1, 2, 3, 4, 5, 6, 7, 8, 9, 0]"
      ]
     },
     "execution_count": 51,
     "metadata": {},
     "output_type": "execute_result"
    }
   ],
   "source": [
    "list_1 = [1,2,3,4,5]\n",
    "list_2 = [6,7,8,9,0]\n",
    "\n",
    "comb_list = list_1 + list_2\n",
    "comb_list"
   ]
  },
  {
   "cell_type": "markdown",
   "id": "115f13fd",
   "metadata": {},
   "source": [
    "Another way to join two lists is by appending all the items from list2 into list1, one by one:"
   ]
  },
  {
   "cell_type": "code",
   "execution_count": 52,
   "id": "9b730a62",
   "metadata": {},
   "outputs": [
    {
     "data": {
      "text/plain": [
       "[1, 2, 3, 4, 5, 6, 7, 8, 9, 0]"
      ]
     },
     "execution_count": 52,
     "metadata": {},
     "output_type": "execute_result"
    }
   ],
   "source": [
    "list_1 = [1,2,3,4,5]\n",
    "list_2 = [6,7,8,9,0]\n",
    "\n",
    "for i in list_2:\n",
    "    list_1.append(i)\n",
    "\n",
    "list_1"
   ]
  },
  {
   "cell_type": "markdown",
   "id": "fbddf5b4",
   "metadata": {},
   "source": [
    "Or you can use the <mark> extend() </mark> method, where the purpose is to add elements from one list to another list:"
   ]
  },
  {
   "cell_type": "code",
   "execution_count": 53,
   "id": "bc2b3eeb",
   "metadata": {},
   "outputs": [
    {
     "data": {
      "text/plain": [
       "[1, 2, 3, 4, 5, 6, 7, 8, 9, 0]"
      ]
     },
     "execution_count": 53,
     "metadata": {},
     "output_type": "execute_result"
    }
   ],
   "source": [
    "list_1 = [1,2,3,4,5]\n",
    "list_2 = [6,7,8,9,0]\n",
    "\n",
    "list_1.extend(list_2)\n",
    "list_1"
   ]
  },
  {
   "cell_type": "markdown",
   "id": "b3532b0a",
   "metadata": {},
   "source": [
    "---\n",
    "- resources from w3 school : learn more about list : [click here](https://www.w3schools.com/python/python_lists.asp)\n",
    "- learn well finish with a test : [click here](https://www.w3schools.com/python/exercise.asp?x=xrcise_lists1)\n",
    "\n"
   ]
  },
  {
   "cell_type": "markdown",
   "id": "aa04677b",
   "metadata": {},
   "source": []
  }
 ],
 "metadata": {
  "kernelspec": {
   "display_name": "Python 3",
   "language": "python",
   "name": "python3"
  },
  "language_info": {
   "codemirror_mode": {
    "name": "ipython",
    "version": 3
   },
   "file_extension": ".py",
   "mimetype": "text/x-python",
   "name": "python",
   "nbconvert_exporter": "python",
   "pygments_lexer": "ipython3",
   "version": "3.11.9"
  }
 },
 "nbformat": 4,
 "nbformat_minor": 5
}
