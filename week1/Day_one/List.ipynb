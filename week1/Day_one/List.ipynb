{
 "cells": [
  {
   "cell_type": "markdown",
   "id": "da69aa36",
   "metadata": {},
   "source": [
    "# List\n",
    "- Lists are used to store multiple items in a single variable.\n",
    "\n",
    "- Lists are one of 4 built-in data types in Python used to store collections of data, the other 3 are Tuple, Set, and Dictionary, all with different qualities and usage.\n",
    "\n",
    "- Lists are created using square brackets:"
   ]
  },
  {
   "cell_type": "code",
   "execution_count": 1,
   "id": "cb07b5ce",
   "metadata": {},
   "outputs": [
    {
     "data": {
      "text/plain": [
       "['apple', 'banana', 'cherry']"
      ]
     },
     "execution_count": 1,
     "metadata": {},
     "output_type": "execute_result"
    }
   ],
   "source": [
    "mylist = [\"apple\", \"banana\", \"cherry\"]\n",
    "mylist"
   ]
  },
  {
   "cell_type": "markdown",
   "id": "a4ca0939",
   "metadata": {},
   "source": [
    "### List Length\n",
    "- To determine how many items a list has, use the len() function:\n"
   ]
  },
  {
   "cell_type": "code",
   "execution_count": 2,
   "id": "3a5a8950",
   "metadata": {},
   "outputs": [
    {
     "data": {
      "text/plain": [
       "6"
      ]
     },
     "execution_count": 2,
     "metadata": {},
     "output_type": "execute_result"
    }
   ],
   "source": [
    "my_list = [1,2,3,4,5,6]\n",
    "len(my_list)"
   ]
  },
  {
   "cell_type": "markdown",
   "id": "32019be6",
   "metadata": {},
   "source": [
    "### List Items - Data Types\n",
    "- List items can be of any data type:"
   ]
  },
  {
   "cell_type": "code",
   "execution_count": 3,
   "id": "a0e1419e",
   "metadata": {},
   "outputs": [
    {
     "data": {
      "text/plain": [
       "(['mango', 'apple', 'orange'], [1, 2, 3, 4, 5, 6], [True, False])"
      ]
     },
     "execution_count": 3,
     "metadata": {},
     "output_type": "execute_result"
    }
   ],
   "source": [
    "list_object = ['mango','apple','orange']\n",
    "list_numbers = [1,2,3,4,5,6]\n",
    "list_boolean = [True,False]\n",
    "list_object,list_numbers,list_boolean"
   ]
  },
  {
   "cell_type": "markdown",
   "id": "59c8beef",
   "metadata": {},
   "source": [
    "- A list can contain different data types:"
   ]
  },
  {
   "cell_type": "code",
   "execution_count": 4,
   "id": "0c28e170",
   "metadata": {},
   "outputs": [
    {
     "data": {
      "text/plain": [
       "[1, 'mango', False, 0.2]"
      ]
     },
     "execution_count": 4,
     "metadata": {},
     "output_type": "execute_result"
    }
   ],
   "source": [
    "list_all_dataTypes = [1,\"mango\",False,0.2]\n",
    "list_all_dataTypes"
   ]
  },
  {
   "cell_type": "markdown",
   "id": "554599b5",
   "metadata": {},
   "source": [
    "### type()\n",
    "- From Python's perspective, lists are defined as objects with the data type 'list':"
   ]
  },
  {
   "cell_type": "code",
   "execution_count": 6,
   "id": "9f02c430",
   "metadata": {},
   "outputs": [
    {
     "data": {
      "text/plain": [
       "list"
      ]
     },
     "execution_count": 6,
     "metadata": {},
     "output_type": "execute_result"
    }
   ],
   "source": [
    "my_number_list = [1,2,3,4,5]\n",
    "type(my_number_list)"
   ]
  },
  {
   "cell_type": "markdown",
   "id": "7a8ae6f2",
   "metadata": {},
   "source": [
    "### The list() Constructor\n",
    "- It is also possible to use the list() constructor when creating a new list.\n",
    "\n"
   ]
  },
  {
   "cell_type": "code",
   "execution_count": 7,
   "id": "c5b6e49e",
   "metadata": {},
   "outputs": [
    {
     "data": {
      "text/plain": [
       "['green', 'blue', 'orange']"
      ]
     },
     "execution_count": 7,
     "metadata": {},
     "output_type": "execute_result"
    }
   ],
   "source": [
    "the_list = list(('green','blue','orange'))\n",
    "the_list"
   ]
  },
  {
   "cell_type": "markdown",
   "id": "d6de3c75",
   "metadata": {},
   "source": []
  },
  {
   "cell_type": "markdown",
   "id": "7cd9f5ec",
   "metadata": {},
   "source": [
    "# Python - Access List Items\n",
    "\n",
    "- List items are indexed and you can access them by referring to the index number:"
   ]
  },
  {
   "cell_type": "code",
   "execution_count": 14,
   "id": "96f10ba8",
   "metadata": {},
   "outputs": [
    {
     "data": {
      "text/plain": [
       "'three'"
      ]
     },
     "execution_count": 14,
     "metadata": {},
     "output_type": "execute_result"
    }
   ],
   "source": [
    "the_list = ['one','two','three','four']\n",
    "the_list[2]"
   ]
  },
  {
   "cell_type": "markdown",
   "id": "90eb590a",
   "metadata": {},
   "source": [
    "## Negative Indexing\n",
    "- Negative indexing means start from the end\n",
    "-1 refers to the last item, -2 refers to the second last item etc."
   ]
  },
  {
   "cell_type": "code",
   "execution_count": 15,
   "id": "05d9468a",
   "metadata": {},
   "outputs": [
    {
     "data": {
      "text/plain": [
       "'four'"
      ]
     },
     "execution_count": 15,
     "metadata": {},
     "output_type": "execute_result"
    }
   ],
   "source": [
    "the_list[-1]"
   ]
  },
  {
   "cell_type": "markdown",
   "id": "1729dec9",
   "metadata": {},
   "source": [
    "## Range of Indexes\n",
    "- You can specify a range of indexes by specifying where to start and where to end the range.\n",
    "\n",
    "- When specifying a range, the return value will be a new list with the specified items."
   ]
  },
  {
   "cell_type": "code",
   "execution_count": 16,
   "id": "8c531032",
   "metadata": {},
   "outputs": [
    {
     "data": {
      "text/plain": [
       "['orange', 'kiwi']"
      ]
     },
     "execution_count": 16,
     "metadata": {},
     "output_type": "execute_result"
    }
   ],
   "source": [
    "thislist = [\"apple\", \"banana\", \"cherry\", \"orange\", \"kiwi\", \"melon\", \"mango\"]\n",
    "thislist[3:5]"
   ]
  },
  {
   "cell_type": "markdown",
   "id": "a36c2272",
   "metadata": {},
   "source": [
    "#### Example\n",
    "- This example returns the items from the beginning to, but NOT including, \"kiwi\":"
   ]
  },
  {
   "cell_type": "code",
   "execution_count": 17,
   "id": "f8fb4553",
   "metadata": {},
   "outputs": [
    {
     "name": "stdout",
     "output_type": "stream",
     "text": [
      "['apple', 'banana', 'cherry', 'orange']\n"
     ]
    }
   ],
   "source": [
    "thislist = [\"apple\", \"banana\", \"cherry\", \"orange\", \"kiwi\", \"melon\", \"mango\"]\n",
    "print(thislist[:4])"
   ]
  },
  {
   "cell_type": "markdown",
   "id": "83c40c79",
   "metadata": {},
   "source": [
    "- By leaving out the end value, the range will go on to the end of the list:\n",
    "#### Example\n",
    "- This example returns the items from \"cherry\" to the end:"
   ]
  },
  {
   "cell_type": "code",
   "execution_count": 18,
   "id": "d2347992",
   "metadata": {},
   "outputs": [
    {
     "name": "stdout",
     "output_type": "stream",
     "text": [
      "['cherry', 'orange', 'kiwi', 'melon', 'mango']\n"
     ]
    }
   ],
   "source": [
    "thislist = [\"apple\", \"banana\", \"cherry\", \"orange\", \"kiwi\", \"melon\", \"mango\"]\n",
    "print(thislist[2:])"
   ]
  },
  {
   "cell_type": "markdown",
   "id": "aa06b7b4",
   "metadata": {},
   "source": [
    "## Range of Negative Indexes\n",
    "- Specify negative indexes if you want to start the search from the end of the list:"
   ]
  },
  {
   "cell_type": "markdown",
   "id": "0a04eef6",
   "metadata": {},
   "source": [
    "#### Example\n",
    "- This example returns the items from \"orange\" (-4) to, but NOT including \"mango\" (-1):"
   ]
  },
  {
   "cell_type": "code",
   "execution_count": 19,
   "id": "3f5d78f8",
   "metadata": {},
   "outputs": [
    {
     "name": "stdout",
     "output_type": "stream",
     "text": [
      "['orange', 'kiwi', 'melon']\n"
     ]
    }
   ],
   "source": [
    "thislist = [\"apple\", \"banana\", \"cherry\", \"orange\", \"kiwi\", \"melon\", \"mango\"]\n",
    "print(thislist[-4:-1])"
   ]
  },
  {
   "cell_type": "markdown",
   "id": "8457cd09",
   "metadata": {},
   "source": [
    "## Check if Item Exists\n",
    "- To determine if a specified item is present in a list use the in keyword:"
   ]
  },
  {
   "cell_type": "markdown",
   "id": "58a06dd3",
   "metadata": {},
   "source": [
    "#### Example\n",
    "- Check if \"apple\" is present in the list:"
   ]
  },
  {
   "cell_type": "code",
   "execution_count": 22,
   "id": "070026ab",
   "metadata": {},
   "outputs": [
    {
     "name": "stdout",
     "output_type": "stream",
     "text": [
      "Fount\n"
     ]
    }
   ],
   "source": [
    "list_fruits = ['apple','orange','mango','pineapple']\n",
    "if 'apple' in list_fruits:\n",
    "    print('Fount')"
   ]
  },
  {
   "cell_type": "markdown",
   "id": "afd4a8ad",
   "metadata": {},
   "source": [
    "# Python - Change List Items"
   ]
  },
  {
   "cell_type": "markdown",
   "id": "db4fd348",
   "metadata": {},
   "source": [
    "## Change Item Value\n",
    "- To change the value of a specific item, refer to the index number:"
   ]
  },
  {
   "cell_type": "markdown",
   "id": "2e409916",
   "metadata": {},
   "source": [
    "### Example\n",
    "- Change the second item:"
   ]
  },
  {
   "cell_type": "code",
   "execution_count": 23,
   "id": "7127d653",
   "metadata": {},
   "outputs": [
    {
     "data": {
      "text/plain": [
       "['apple', 'banana changed', 'berry', 'orange']"
      ]
     },
     "execution_count": 23,
     "metadata": {},
     "output_type": "execute_result"
    }
   ],
   "source": [
    "list_change = ['apple','banana','berry','orange']\n",
    "list_change[1] = 'banana changed'\n",
    "list_change"
   ]
  },
  {
   "cell_type": "markdown",
   "id": "b879a59a",
   "metadata": {},
   "source": [
    "## Change a Range of Item Values\n",
    "- To change the value of items within a specific range, define a list with the new values, and refer to the range of index numbers where you want to insert the new values:\n",
    "    "
   ]
  },
  {
   "cell_type": "code",
   "execution_count": 24,
   "id": "0cb830f9",
   "metadata": {},
   "outputs": [
    {
     "data": {
      "text/plain": [
       "['apple', 'banana', 'changed 1 ', 'changed 2', 'kiwi', 'mango']"
      ]
     },
     "execution_count": 24,
     "metadata": {},
     "output_type": "execute_result"
    }
   ],
   "source": [
    "list_change = [\"apple\", \"banana\", \"cherry\", \"orange\", \"kiwi\", \"mango\"]\n",
    "list_change[2:4] = ['changed 1 ','changed 2']\n",
    "list_change"
   ]
  },
  {
   "cell_type": "markdown",
   "id": "2af2220d",
   "metadata": {},
   "source": [
    "- If you insert more items than you replace, the new items will be inserted where you specified, and the remaining items will move accordingly:"
   ]
  },
  {
   "cell_type": "code",
   "execution_count": 25,
   "id": "76f9d458",
   "metadata": {},
   "outputs": [
    {
     "name": "stdout",
     "output_type": "stream",
     "text": [
      "['apple', 'blackcurrant', 'watermelon', 'cherry']\n"
     ]
    }
   ],
   "source": [
    "thislist = [\"apple\", \"banana\", \"cherry\"]\n",
    "thislist[1:2] = [\"blackcurrant\", \"watermelon\"]\n",
    "print(thislist)"
   ]
  },
  {
   "cell_type": "markdown",
   "id": "47c97b6f",
   "metadata": {},
   "source": [
    "- If you insert less items than you replace, the new items will be inserted where you specified, and the remaining items will move accordingly:"
   ]
  },
  {
   "cell_type": "code",
   "execution_count": 26,
   "id": "4fd86594",
   "metadata": {},
   "outputs": [
    {
     "name": "stdout",
     "output_type": "stream",
     "text": [
      "['apple', 'watermelon']\n"
     ]
    }
   ],
   "source": [
    "thislist = [\"apple\", \"banana\", \"cherry\"]\n",
    "thislist[1:3] = [\"watermelon\"]\n",
    "print(thislist)"
   ]
  },
  {
   "cell_type": "markdown",
   "id": "3ab87cb1",
   "metadata": {},
   "source": [
    "## Insert Items\n",
    "- To insert a new list item, without replacing any of the existing values, we can use the insert() method."
   ]
  },
  {
   "cell_type": "code",
   "execution_count": 27,
   "id": "f32a48d9",
   "metadata": {},
   "outputs": [
    {
     "data": {
      "text/plain": [
       "['apple', 'mellon', 'banana', 'cherry']"
      ]
     },
     "execution_count": 27,
     "metadata": {},
     "output_type": "execute_result"
    }
   ],
   "source": [
    "the_list = [\"apple\", \"banana\", \"cherry\"]\n",
    "the_list.insert(1,'mellon')\n",
    "the_list"
   ]
  },
  {
   "cell_type": "markdown",
   "id": "15176d65",
   "metadata": {},
   "source": [
    "# Add List Items"
   ]
  },
  {
   "cell_type": "markdown",
   "id": "25dfb96c",
   "metadata": {},
   "source": [
    "## Append Items\n",
    "- To add an item to the end of the list, use the append() method:"
   ]
  },
  {
   "cell_type": "code",
   "execution_count": 28,
   "id": "44627ae6",
   "metadata": {},
   "outputs": [
    {
     "data": {
      "text/plain": [
       "['mango', 'apple', 'sugercane']"
      ]
     },
     "execution_count": 28,
     "metadata": {},
     "output_type": "execute_result"
    }
   ],
   "source": [
    "item_list = ['mango','apple']\n",
    "item_list.append('sugercane')\n",
    "item_list"
   ]
  },
  {
   "cell_type": "markdown",
   "id": "09380cea",
   "metadata": {},
   "source": [
    "## Insert Items\n",
    "- To insert a list item at a specified index, use the insert() method.\n",
    "\n",
    "- The insert() method inserts an item at the specified index:"
   ]
  },
  {
   "cell_type": "code",
   "execution_count": 30,
   "id": "0c0e5fd5",
   "metadata": {},
   "outputs": [
    {
     "data": {
      "text/plain": [
       "['item1', 'inserted item', 'item2', 'item3']"
      ]
     },
     "execution_count": 30,
     "metadata": {},
     "output_type": "execute_result"
    }
   ],
   "source": [
    "list_item = ['item1','item2','item3']\n",
    "list_item.insert(1,'inserted item')\n",
    "list_item"
   ]
  },
  {
   "cell_type": "markdown",
   "id": "3fc25485",
   "metadata": {},
   "source": [
    "## Extend List\n",
    "- To append elements from another list to the current list, use the extend() method."
   ]
  },
  {
   "cell_type": "code",
   "execution_count": 31,
   "id": "ba21cfb7",
   "metadata": {},
   "outputs": [
    {
     "data": {
      "text/plain": [
       "[1, 2, 3, 4, 5, 6, 7, 8, 9, 10]"
      ]
     },
     "execution_count": 31,
     "metadata": {},
     "output_type": "execute_result"
    }
   ],
   "source": [
    "list_1 = [1,2,3,4,5]\n",
    "list_2 = [6,7,8,9,10]\n",
    "list_1.extend(list_2)\n",
    "list_1"
   ]
  },
  {
   "cell_type": "markdown",
   "id": "293b1dac",
   "metadata": {},
   "source": [
    "### Add Any Iterable\n",
    "- The extend() method does not have to append lists, you can add any iterable object (tuples, sets, dictionaries etc.)."
   ]
  },
  {
   "cell_type": "code",
   "execution_count": 32,
   "id": "14f92c16",
   "metadata": {},
   "outputs": [
    {
     "data": {
      "text/plain": [
       "['water', 'air', 'soil', 'space', 'gravity']"
      ]
     },
     "execution_count": 32,
     "metadata": {},
     "output_type": "execute_result"
    }
   ],
   "source": [
    "list_main = ['water','air','soil']\n",
    "tuple_values = ('space','gravity')\n",
    "list_main.extend(tuple_values)\n",
    "list_main"
   ]
  },
  {
   "cell_type": "markdown",
   "id": "9372ff54",
   "metadata": {},
   "source": [
    "# Remove List Items"
   ]
  },
  {
   "cell_type": "markdown",
   "id": "d5c04895",
   "metadata": {},
   "source": [
    "## Remove Specified Item\n",
    "- The remove() method removes the specified item."
   ]
  },
  {
   "cell_type": "code",
   "execution_count": 33,
   "id": "91e49e35",
   "metadata": {},
   "outputs": [
    {
     "data": {
      "text/plain": [
       "['air', 'soil']"
      ]
     },
     "execution_count": 33,
     "metadata": {},
     "output_type": "execute_result"
    }
   ],
   "source": [
    "list_main = ['water','air','soil']\n",
    "list_main.remove('water')\n",
    "list_main"
   ]
  },
  {
   "cell_type": "markdown",
   "id": "f49c03f7",
   "metadata": {},
   "source": [
    "- If there are more than one item with the specified value, the remove() method removes the first occurrence:\n",
    "#### Example\n",
    "- Remove the first occurrence of \"banana\":"
   ]
  },
  {
   "cell_type": "code",
   "execution_count": 34,
   "id": "bba38ac0",
   "metadata": {},
   "outputs": [
    {
     "data": {
      "text/plain": [
       "['apple', 'cherry', 'banana', 'kiwi']"
      ]
     },
     "execution_count": 34,
     "metadata": {},
     "output_type": "execute_result"
    }
   ],
   "source": [
    "thislist = [\"apple\", \"banana\", \"cherry\", \"banana\", \"kiwi\"]\n",
    "thislist.remove('banana')\n",
    "thislist"
   ]
  },
  {
   "cell_type": "markdown",
   "id": "a36cf70b",
   "metadata": {},
   "source": [
    "## Remove Specified Index\n",
    "- The pop() method removes the specified index."
   ]
  },
  {
   "cell_type": "code",
   "execution_count": 35,
   "id": "c1ac83f6",
   "metadata": {},
   "outputs": [
    {
     "data": {
      "text/plain": [
       "['apple', 'banana', 'banana', 'kiwi']"
      ]
     },
     "execution_count": 35,
     "metadata": {},
     "output_type": "execute_result"
    }
   ],
   "source": [
    "thislist = [\"apple\", \"banana\", \"cherry\", \"banana\", \"kiwi\"]\n",
    "thislist.pop(2)\n",
    "thislist"
   ]
  },
  {
   "cell_type": "markdown",
   "id": "d8854e2b",
   "metadata": {},
   "source": [
    "- If you do not specify the index, the pop() method removes the last item."
   ]
  },
  {
   "cell_type": "code",
   "execution_count": 36,
   "id": "0c3b24b7",
   "metadata": {},
   "outputs": [
    {
     "data": {
      "text/plain": [
       "['apple', 'banana', 'cherry', 'banana']"
      ]
     },
     "execution_count": 36,
     "metadata": {},
     "output_type": "execute_result"
    }
   ],
   "source": [
    "thislist = [\"apple\", \"banana\", \"cherry\", \"banana\", \"kiwi\"]\n",
    "thislist.pop()\n",
    "thislist"
   ]
  },
  {
   "cell_type": "markdown",
   "id": "bad89198",
   "metadata": {},
   "source": [
    "- The del keyword also removes the specified index:"
   ]
  },
  {
   "cell_type": "code",
   "execution_count": 37,
   "id": "b92f768a",
   "metadata": {},
   "outputs": [
    {
     "data": {
      "text/plain": [
       "['apple', 'banana', 'banana']"
      ]
     },
     "execution_count": 37,
     "metadata": {},
     "output_type": "execute_result"
    }
   ],
   "source": [
    "del thislist[2]\n",
    "thislist"
   ]
  },
  {
   "cell_type": "markdown",
   "id": "2e55bbdc",
   "metadata": {},
   "source": [
    "- The del keyword can also delete the list completely.\n",
    "\n"
   ]
  },
  {
   "cell_type": "code",
   "execution_count": 38,
   "id": "850a439e",
   "metadata": {},
   "outputs": [],
   "source": [
    "del thislist"
   ]
  },
  {
   "cell_type": "markdown",
   "id": "7e70a0fa",
   "metadata": {},
   "source": [
    "## Clear the List\n",
    "- The clear() method empties the list.\n",
    "\n",
    "- The list still remains, but it has no content."
   ]
  },
  {
   "cell_type": "code",
   "execution_count": 39,
   "id": "cf2b68e0",
   "metadata": {},
   "outputs": [
    {
     "data": {
      "text/plain": [
       "[]"
      ]
     },
     "execution_count": 39,
     "metadata": {},
     "output_type": "execute_result"
    }
   ],
   "source": [
    "thislist = [\"apple\", \"banana\", \"cherry\", \"banana\", \"kiwi\"]\n",
    "thislist.clear()\n",
    "thislist"
   ]
  },
  {
   "cell_type": "markdown",
   "id": "407c2b44",
   "metadata": {},
   "source": [
    "# Loop Lists"
   ]
  },
  {
   "cell_type": "markdown",
   "id": "c32d05e4",
   "metadata": {},
   "source": [
    "## Loop Through a List\n",
    "- You can loop through the list items by using a for loop:\n",
    "learn more about For loop ==> [for loop](for_loop.ipynb)"
   ]
  },
  {
   "cell_type": "markdown",
   "id": "de8d5090",
   "metadata": {},
   "source": [
    "#### Example\n",
    "- Print all items in the list, one by one:"
   ]
  },
  {
   "cell_type": "code",
   "execution_count": 40,
   "id": "2d806f10",
   "metadata": {},
   "outputs": [
    {
     "name": "stdout",
     "output_type": "stream",
     "text": [
      "1\n",
      "2\n",
      "3\n",
      "4\n",
      "5\n"
     ]
    }
   ],
   "source": [
    "num_list = [1,2,3,4,5]\n",
    "for i in num_list:\n",
    "    print(i)"
   ]
  },
  {
   "cell_type": "markdown",
   "id": "dff14676",
   "metadata": {},
   "source": [
    "## Loop Through the Index Numbers\n",
    "- You can also loop through the list items by referring to their index number.\n",
    "\n",
    "- Use the range() and len() functions to create a suitable iterable.\n",
    "\n",
    "#### Example\n",
    "- Print all items by referring to their index number:"
   ]
  },
  {
   "cell_type": "code",
   "execution_count": 41,
   "id": "c540b980",
   "metadata": {},
   "outputs": [
    {
     "name": "stdout",
     "output_type": "stream",
     "text": [
      "0\n",
      "1\n",
      "2\n",
      "3\n",
      "4\n"
     ]
    }
   ],
   "source": [
    "for i in range(len(num_list)):\n",
    "    print(i)"
   ]
  },
  {
   "cell_type": "markdown",
   "id": "86820183",
   "metadata": {},
   "source": [
    "## Using a While Loop\n",
    "- You can loop through the list items by using a while loop.\n",
    "\n",
    "- Use the len() function to determine the length of the list, then start at 0 and loop your way through the list items by referring to their indexes.\n",
    "\n",
    "- Remember to increase the index by 1 after each iteration.\n",
    "\n",
    "learn more about while loop ==> [while loop](while_loop.ipynb)"
   ]
  },
  {
   "cell_type": "code",
   "execution_count": 46,
   "id": "5c240187",
   "metadata": {},
   "outputs": [
    {
     "name": "stdout",
     "output_type": "stream",
     "text": [
      "1\n",
      "2\n",
      "3\n",
      "4\n",
      "5\n"
     ]
    }
   ],
   "source": [
    "count = 0\n",
    "while count < len(num_list):\n",
    "    print (num_list[count])\n",
    "    count += 1"
   ]
  },
  {
   "cell_type": "markdown",
   "id": "50420b42",
   "metadata": {},
   "source": [
    "## Looping Using List Comprehension\n",
    "- List Comprehension offers the shortest syntax for looping through lists:\n",
    "### List Comprehension\n",
    "- List comprehension offers a shorter syntax when you want to create a new list based on the values of an existing list.\n",
    "\n",
    "#### Example:\n",
    "\n",
    "- Based on a list of fruits, you want a new list, containing only the fruits with the letter \"a\" in the name.\n",
    "\n",
    "- Without list comprehension you will have to write a for statement with a conditional test inside:"
   ]
  },
  {
   "cell_type": "code",
   "execution_count": null,
   "id": "a1a3c66f",
   "metadata": {},
   "outputs": [
    {
     "data": {
      "text/plain": [
       "([1, 2, 3, 4, 5, 6, 7], [2, 4, 6])"
      ]
     },
     "execution_count": 3,
     "metadata": {},
     "output_type": "execute_result"
    }
   ],
   "source": [
    "# For loop\n",
    "\n",
    "list_num = [1,2,3,4,5,6,7]\n",
    "new_list = []\n",
    "for i in list_num:\n",
    "    if i %2 == 0:\n",
    "        new_list.append(i)\n",
    "list_num , new_list"
   ]
  },
  {
   "cell_type": "code",
   "execution_count": null,
   "id": "c2cc7957",
   "metadata": {},
   "outputs": [
    {
     "data": {
      "text/plain": [
       "[2, 4, 6]"
      ]
     },
     "execution_count": 8,
     "metadata": {},
     "output_type": "execute_result"
    }
   ],
   "source": [
    "# List comprehension\n",
    "\n",
    "list_num = [1,2,3,4,5,6,7]\n",
    "new_list = [i for i in list_num if i % 2 == 0]\n",
    "new_list\n"
   ]
  },
  {
   "cell_type": "code",
   "execution_count": null,
   "id": "5b5c5a20",
   "metadata": {},
   "outputs": [],
   "source": []
  }
 ],
 "metadata": {
  "kernelspec": {
   "display_name": "Python 3",
   "language": "python",
   "name": "python3"
  },
  "language_info": {
   "codemirror_mode": {
    "name": "ipython",
    "version": 3
   },
   "file_extension": ".py",
   "mimetype": "text/x-python",
   "name": "python",
   "nbconvert_exporter": "python",
   "pygments_lexer": "ipython3",
   "version": "3.11.9"
  }
 },
 "nbformat": 4,
 "nbformat_minor": 5
}
